{
 "cells": [
  {
   "cell_type": "markdown",
   "id": "990feef7",
   "metadata": {},
   "source": [
    "Projekt praktyczny - Regresja"
   ]
  },
  {
   "cell_type": "markdown",
   "id": "b40de22d",
   "metadata": {},
   "source": [
    "# Pobranie i wczytanie danych\n",
    " Ze strony SDA pobieramy zestaw danych w pliku .csv dla których przeprowadzimy analizę."
   ]
  },
  {
   "cell_type": "markdown",
   "id": "1098466b",
   "metadata": {},
   "source": [
    "## Import bibliotek\n",
    "\n",
    "W pierwszej kolejności dokonujemy importu niezbędnych bibliotek."
   ]
  },
  {
   "cell_type": "code",
   "execution_count": 1,
   "id": "5c344a47",
   "metadata": {},
   "outputs": [],
   "source": [
    "import pandas as pd  # Data manipulation\n",
    "import numpy as np  # Data manipulation\n",
    "import matplotlib.pyplot as plt  # Visualization\n",
    "import seaborn as sns  # Visualization"
   ]
  },
  {
   "cell_type": "markdown",
   "id": "06286087",
   "metadata": {},
   "source": [
    "## Wczytanie danych"
   ]
  },
  {
   "cell_type": "code",
   "execution_count": 2,
   "id": "236c180e",
   "metadata": {},
   "outputs": [
    {
     "data": {
      "text/html": [
       "<div>\n",
       "<style scoped>\n",
       "    .dataframe tbody tr th:only-of-type {\n",
       "        vertical-align: middle;\n",
       "    }\n",
       "\n",
       "    .dataframe tbody tr th {\n",
       "        vertical-align: top;\n",
       "    }\n",
       "\n",
       "    .dataframe thead th {\n",
       "        text-align: right;\n",
       "    }\n",
       "</style>\n",
       "<table border=\"1\" class=\"dataframe\">\n",
       "  <thead>\n",
       "    <tr style=\"text-align: right;\">\n",
       "      <th></th>\n",
       "      <th>Formatted Date</th>\n",
       "      <th>Summary</th>\n",
       "      <th>Precip Type</th>\n",
       "      <th>Temperature (C)</th>\n",
       "      <th>Apparent Temperature (C)</th>\n",
       "      <th>Humidity</th>\n",
       "      <th>Wind Speed (km/h)</th>\n",
       "      <th>Wind Bearing (degrees)</th>\n",
       "      <th>Visibility (km)</th>\n",
       "      <th>Loud Cover</th>\n",
       "      <th>Pressure (millibars)</th>\n",
       "      <th>Daily Summary</th>\n",
       "    </tr>\n",
       "  </thead>\n",
       "  <tbody>\n",
       "    <tr>\n",
       "      <th>0</th>\n",
       "      <td>2006-04-01 00:00:00.000 +0200</td>\n",
       "      <td>Partly Cloudy</td>\n",
       "      <td>rain</td>\n",
       "      <td>9.472222</td>\n",
       "      <td>7.388889</td>\n",
       "      <td>0.89</td>\n",
       "      <td>14.1197</td>\n",
       "      <td>251.0</td>\n",
       "      <td>15.8263</td>\n",
       "      <td>0.0</td>\n",
       "      <td>1015.13</td>\n",
       "      <td>Partly cloudy throughout the day.</td>\n",
       "    </tr>\n",
       "    <tr>\n",
       "      <th>1</th>\n",
       "      <td>2006-04-01 01:00:00.000 +0200</td>\n",
       "      <td>Partly Cloudy</td>\n",
       "      <td>rain</td>\n",
       "      <td>9.355556</td>\n",
       "      <td>7.227778</td>\n",
       "      <td>0.86</td>\n",
       "      <td>14.2646</td>\n",
       "      <td>259.0</td>\n",
       "      <td>15.8263</td>\n",
       "      <td>0.0</td>\n",
       "      <td>1015.63</td>\n",
       "      <td>Partly cloudy throughout the day.</td>\n",
       "    </tr>\n",
       "    <tr>\n",
       "      <th>2</th>\n",
       "      <td>2006-04-01 02:00:00.000 +0200</td>\n",
       "      <td>Mostly Cloudy</td>\n",
       "      <td>rain</td>\n",
       "      <td>9.377778</td>\n",
       "      <td>9.377778</td>\n",
       "      <td>0.89</td>\n",
       "      <td>3.9284</td>\n",
       "      <td>204.0</td>\n",
       "      <td>14.9569</td>\n",
       "      <td>0.0</td>\n",
       "      <td>1015.94</td>\n",
       "      <td>Partly cloudy throughout the day.</td>\n",
       "    </tr>\n",
       "    <tr>\n",
       "      <th>3</th>\n",
       "      <td>2006-04-01 03:00:00.000 +0200</td>\n",
       "      <td>Partly Cloudy</td>\n",
       "      <td>rain</td>\n",
       "      <td>8.288889</td>\n",
       "      <td>5.944444</td>\n",
       "      <td>0.83</td>\n",
       "      <td>14.1036</td>\n",
       "      <td>269.0</td>\n",
       "      <td>15.8263</td>\n",
       "      <td>0.0</td>\n",
       "      <td>1016.41</td>\n",
       "      <td>Partly cloudy throughout the day.</td>\n",
       "    </tr>\n",
       "    <tr>\n",
       "      <th>4</th>\n",
       "      <td>2006-04-01 04:00:00.000 +0200</td>\n",
       "      <td>Mostly Cloudy</td>\n",
       "      <td>rain</td>\n",
       "      <td>8.755556</td>\n",
       "      <td>6.977778</td>\n",
       "      <td>0.83</td>\n",
       "      <td>11.0446</td>\n",
       "      <td>259.0</td>\n",
       "      <td>15.8263</td>\n",
       "      <td>0.0</td>\n",
       "      <td>1016.51</td>\n",
       "      <td>Partly cloudy throughout the day.</td>\n",
       "    </tr>\n",
       "  </tbody>\n",
       "</table>\n",
       "</div>"
      ],
      "text/plain": [
       "                  Formatted Date        Summary Precip Type  Temperature (C)  \\\n",
       "0  2006-04-01 00:00:00.000 +0200  Partly Cloudy        rain         9.472222   \n",
       "1  2006-04-01 01:00:00.000 +0200  Partly Cloudy        rain         9.355556   \n",
       "2  2006-04-01 02:00:00.000 +0200  Mostly Cloudy        rain         9.377778   \n",
       "3  2006-04-01 03:00:00.000 +0200  Partly Cloudy        rain         8.288889   \n",
       "4  2006-04-01 04:00:00.000 +0200  Mostly Cloudy        rain         8.755556   \n",
       "\n",
       "   Apparent Temperature (C)  Humidity  Wind Speed (km/h)  \\\n",
       "0                  7.388889      0.89            14.1197   \n",
       "1                  7.227778      0.86            14.2646   \n",
       "2                  9.377778      0.89             3.9284   \n",
       "3                  5.944444      0.83            14.1036   \n",
       "4                  6.977778      0.83            11.0446   \n",
       "\n",
       "   Wind Bearing (degrees)  Visibility (km)  Loud Cover  Pressure (millibars)  \\\n",
       "0                   251.0          15.8263         0.0               1015.13   \n",
       "1                   259.0          15.8263         0.0               1015.63   \n",
       "2                   204.0          14.9569         0.0               1015.94   \n",
       "3                   269.0          15.8263         0.0               1016.41   \n",
       "4                   259.0          15.8263         0.0               1016.51   \n",
       "\n",
       "                       Daily Summary  \n",
       "0  Partly cloudy throughout the day.  \n",
       "1  Partly cloudy throughout the day.  \n",
       "2  Partly cloudy throughout the day.  \n",
       "3  Partly cloudy throughout the day.  \n",
       "4  Partly cloudy throughout the day.  "
      ]
     },
     "execution_count": 2,
     "metadata": {},
     "output_type": "execute_result"
    }
   ],
   "source": [
    "weather_df = pd.read_csv('weatherHistory.csv')\n",
    "weather_df.head()"
   ]
  },
  {
   "cell_type": "markdown",
   "id": "7adf52c0",
   "metadata": {},
   "source": [
    "# Czego dotyczą dane oraz krótka analiza\n",
    "Dane zawierają informację pogodowe z miasta Segedyn w Węgrzech z lat 2006-2016.\n",
    "\n",
    "W danych znajdziemy informację:\n",
    "- date - zawiera sformatowanę datę, dane pogodowe zostały zebrane w latach 2006-2016 dla pomiarów wykonywanych co godzinę\n",
    "- summary - zawiera krótką informację o stanie pogody danego dnia (Partly Cloudy, Mostly Cloudy, Overcast, Foggy, Breezy and Mostly Cloudy, Clear, Breezy and Partly Cloudy, Breezy and Overcast, Humid and Mostly Cloudy, Humid and Partly Cloudy, Windy and Foggy, Windy and Overcast, Breezy and Foggy, Windy and Partly Cloudy, Breezy, Dry and Partly Cloudy, Windy and Mostly Cloudy, Dangerously Windy and Partly Cloudy, Dry, Windy, Humid and Overcast, Light Rain, Drizzle, Windy and Dry, Dry and Mostly Cloudy, Breezy and Dry, Rain)\n",
    "- precip type - zawiera informację o opadach i rodzaju opadów, czy padał deszcz, czy śnieg (rain, snow)\n",
    "- temperature (C) - zwiera pomiary temperatury wyrażone w stopniach Celsjusza\n",
    "- apparent temperature - zawiera pomiary wyliczonej temperatury odczuwalnej wyrażone w stopniach Celsjusza\n",
    "- humidity - zawiera informację o wilgotności danego dnia\n",
    "- loud cover- zawiera informację o parametrze niskiego zachmurzenia przyjmującego wartości w przedziale od 0 do 1. \n",
    "- pressure (millibars) - zawiera pomiary ciśnienia wyrażonego w milibarach.\n",
    "- daily summary - zawiera krótkie podsumowanie pogody w danym czasie."
   ]
  },
  {
   "cell_type": "markdown",
   "id": "59c4e617",
   "metadata": {},
   "source": [
    "# Przygotowanie i eksploracja danych"
   ]
  },
  {
   "cell_type": "markdown",
   "id": "962e54f0",
   "metadata": {},
   "source": [
    "## Sprawdzenie danych \n",
    "\n",
    "\n",
    "Po wczytaniu danych sparawdzamy z jakim typem danych mamy doczynienia. "
   ]
  },
  {
   "cell_type": "code",
   "execution_count": 3,
   "id": "abe44fbf",
   "metadata": {},
   "outputs": [
    {
     "name": "stdout",
     "output_type": "stream",
     "text": [
      "<class 'pandas.core.frame.DataFrame'>\n",
      "RangeIndex: 96453 entries, 0 to 96452\n",
      "Data columns (total 12 columns):\n",
      " #   Column                    Non-Null Count  Dtype  \n",
      "---  ------                    --------------  -----  \n",
      " 0   Formatted Date            96453 non-null  object \n",
      " 1   Summary                   96453 non-null  object \n",
      " 2   Precip Type               95936 non-null  object \n",
      " 3   Temperature (C)           96453 non-null  float64\n",
      " 4   Apparent Temperature (C)  96453 non-null  float64\n",
      " 5   Humidity                  96453 non-null  float64\n",
      " 6   Wind Speed (km/h)         96453 non-null  float64\n",
      " 7   Wind Bearing (degrees)    96453 non-null  float64\n",
      " 8   Visibility (km)           96453 non-null  float64\n",
      " 9   Loud Cover                96453 non-null  float64\n",
      " 10  Pressure (millibars)      96453 non-null  float64\n",
      " 11  Daily Summary             96453 non-null  object \n",
      "dtypes: float64(8), object(4)\n",
      "memory usage: 8.8+ MB\n"
     ]
    }
   ],
   "source": [
    "weather_df.info()"
   ]
  },
  {
   "cell_type": "markdown",
   "id": "c9e518a5",
   "metadata": {},
   "source": [
    "## Braki w danych"
   ]
  },
  {
   "cell_type": "code",
   "execution_count": 4,
   "id": "7149d862",
   "metadata": {},
   "outputs": [
    {
     "data": {
      "text/plain": [
       "Formatted Date                0\n",
       "Summary                       0\n",
       "Precip Type                 517\n",
       "Temperature (C)               0\n",
       "Apparent Temperature (C)      0\n",
       "Humidity                      0\n",
       "Wind Speed (km/h)             0\n",
       "Wind Bearing (degrees)        0\n",
       "Visibility (km)               0\n",
       "Loud Cover                    0\n",
       "Pressure (millibars)          0\n",
       "Daily Summary                 0\n",
       "dtype: int64"
      ]
     },
     "execution_count": 4,
     "metadata": {},
     "output_type": "execute_result"
    }
   ],
   "source": [
    "weather_df.isnull().sum()"
   ]
  },
  {
   "cell_type": "code",
   "execution_count": 5,
   "id": "03205e92",
   "metadata": {},
   "outputs": [
    {
     "data": {
      "text/plain": [
       "array(['rain', 'snow', nan], dtype=object)"
      ]
     },
     "execution_count": 5,
     "metadata": {},
     "output_type": "execute_result"
    }
   ],
   "source": [
    "weather_df['Precip Type'].unique()"
   ]
  },
  {
   "cell_type": "markdown",
   "id": "96f640b9",
   "metadata": {},
   "source": [
    "W parametrze precic type zaobsorwaliśmy brak 517 wartości.\n",
    "\n",
    "Precic type informuje nas czy w danym dniu były opady deszczu, bądź śniegu. Zatem w tym przypadku  brak danych inforumje nas o tym, że w tym dniu nie zaobersowano żadnych odpadów.\n",
    "Brak danych Nan zastępujemy wartością numeryczną 0."
   ]
  },
  {
   "cell_type": "code",
   "execution_count": 6,
   "id": "1d8cd327",
   "metadata": {},
   "outputs": [
    {
     "data": {
      "text/plain": [
       "array(['rain', 'snow', 0], dtype=object)"
      ]
     },
     "execution_count": 6,
     "metadata": {},
     "output_type": "execute_result"
    }
   ],
   "source": [
    "weather_df['Precip Type'] = weather_df['Precip Type'].replace(np.nan, 0)\n",
    "weather_df['Precip Type'].unique()"
   ]
  },
  {
   "cell_type": "markdown",
   "id": "6d176432",
   "metadata": {},
   "source": [
    "## Wartości odstające"
   ]
  },
  {
   "cell_type": "code",
   "execution_count": 7,
   "id": "db18e939",
   "metadata": {},
   "outputs": [
    {
     "data": {
      "image/png": "[encoded data removed]",
      "text/plain": [
       "<Figure size 1080x576 with 1 Axes>"
      ]
     },
     "metadata": {
      "needs_background": "light"
     },
     "output_type": "display_data"
    }
   ],
   "source": [
    "sns.boxplot(data=weather_df)\n",
    "plt.gcf().set_size_inches(15, 8)"
   ]
  },
  {
   "cell_type": "markdown",
   "id": "c8a2f787",
   "metadata": {},
   "source": [
    "W pressure występuje silnie odstająca wartość ciśnienia 0. Zakładamy, że wynika ona z błędnie wprowadzonej wartości, zatem tą wartość zamieniamy średnią wartością ciśnienia wyliczoną dla wszystkich pomairów."
   ]
  },
  {
   "cell_type": "code",
   "execution_count": 8,
   "id": "042a0f5a",
   "metadata": {},
   "outputs": [],
   "source": [
    "# from sklearn.impute import SimpleImputer\n",
    "# weather_df['Pressure (millibars)'] = SimpleImputer(missing_values=0, strategy='mean')\n",
    "\n",
    "weather_df['Pressure (millibars)']= weather_df['Pressure (millibars)'].replace(0, 1003.235956)\n"
   ]
  },
  {
   "cell_type": "code",
   "execution_count": 9,
   "id": "8394fe49",
   "metadata": {},
   "outputs": [
    {
     "data": {
      "image/png": "[encoded data removed]",
      "text/plain": [
       "<Figure size 1080x576 with 1 Axes>"
      ]
     },
     "metadata": {
      "needs_background": "light"
     },
     "output_type": "display_data"
    }
   ],
   "source": [
    "sns.boxplot(data=weather_df)\n",
    "plt.gcf().set_size_inches(15, 8)"
   ]
  },
  {
   "cell_type": "markdown",
   "id": "f680c9f1",
   "metadata": {},
   "source": [
    "## Wartośći unikalne "
   ]
  },
  {
   "cell_type": "code",
   "execution_count": 10,
   "id": "39f88bd2",
   "metadata": {},
   "outputs": [
    {
     "data": {
      "text/plain": [
       "Formatted Date              96429\n",
       "Summary                        27\n",
       "Precip Type                     3\n",
       "Temperature (C)              7574\n",
       "Apparent Temperature (C)     8984\n",
       "Humidity                       90\n",
       "Wind Speed (km/h)            2484\n",
       "Wind Bearing (degrees)        360\n",
       "Visibility (km)               949\n",
       "Loud Cover                      1\n",
       "Pressure (millibars)         4979\n",
       "Daily Summary                 214\n",
       "dtype: int64"
      ]
     },
     "execution_count": 10,
     "metadata": {},
     "output_type": "execute_result"
    }
   ],
   "source": [
    "weather_df.nunique()"
   ]
  },
  {
   "cell_type": "code",
   "execution_count": 11,
   "id": "9fd19927",
   "metadata": {},
   "outputs": [
    {
     "data": {
      "text/plain": [
       "array([0.])"
      ]
     },
     "execution_count": 11,
     "metadata": {},
     "output_type": "execute_result"
    }
   ],
   "source": [
    "weather_df['Loud Cover'].unique()"
   ]
  },
  {
   "cell_type": "markdown",
   "id": "5df7f20c",
   "metadata": {},
   "source": [
    "Kolumna Loud Cover zawiera tylko jedną wartość 0 dla wszytskich pomiarów. Zatem nie wniesie ona znaczących informacji do dalszej analizy i możemy się jej pozbyć."
   ]
  },
  {
   "cell_type": "code",
   "execution_count": 12,
   "id": "0f619102",
   "metadata": {},
   "outputs": [
    {
     "data": {
      "text/html": [
       "<div>\n",
       "<style scoped>\n",
       "    .dataframe tbody tr th:only-of-type {\n",
       "        vertical-align: middle;\n",
       "    }\n",
       "\n",
       "    .dataframe tbody tr th {\n",
       "        vertical-align: top;\n",
       "    }\n",
       "\n",
       "    .dataframe thead th {\n",
       "        text-align: right;\n",
       "    }\n",
       "</style>\n",
       "<table border=\"1\" class=\"dataframe\">\n",
       "  <thead>\n",
       "    <tr style=\"text-align: right;\">\n",
       "      <th></th>\n",
       "      <th>Formatted Date</th>\n",
       "      <th>Summary</th>\n",
       "      <th>Precip Type</th>\n",
       "      <th>Temperature (C)</th>\n",
       "      <th>Apparent Temperature (C)</th>\n",
       "      <th>Humidity</th>\n",
       "      <th>Wind Speed (km/h)</th>\n",
       "      <th>Wind Bearing (degrees)</th>\n",
       "      <th>Visibility (km)</th>\n",
       "      <th>Pressure (millibars)</th>\n",
       "      <th>Daily Summary</th>\n",
       "    </tr>\n",
       "  </thead>\n",
       "  <tbody>\n",
       "    <tr>\n",
       "      <th>0</th>\n",
       "      <td>2006-04-01 00:00:00.000 +0200</td>\n",
       "      <td>Partly Cloudy</td>\n",
       "      <td>rain</td>\n",
       "      <td>9.472222</td>\n",
       "      <td>7.388889</td>\n",
       "      <td>0.89</td>\n",
       "      <td>14.1197</td>\n",
       "      <td>251.0</td>\n",
       "      <td>15.8263</td>\n",
       "      <td>1015.13</td>\n",
       "      <td>Partly cloudy throughout the day.</td>\n",
       "    </tr>\n",
       "    <tr>\n",
       "      <th>1</th>\n",
       "      <td>2006-04-01 01:00:00.000 +0200</td>\n",
       "      <td>Partly Cloudy</td>\n",
       "      <td>rain</td>\n",
       "      <td>9.355556</td>\n",
       "      <td>7.227778</td>\n",
       "      <td>0.86</td>\n",
       "      <td>14.2646</td>\n",
       "      <td>259.0</td>\n",
       "      <td>15.8263</td>\n",
       "      <td>1015.63</td>\n",
       "      <td>Partly cloudy throughout the day.</td>\n",
       "    </tr>\n",
       "    <tr>\n",
       "      <th>2</th>\n",
       "      <td>2006-04-01 02:00:00.000 +0200</td>\n",
       "      <td>Mostly Cloudy</td>\n",
       "      <td>rain</td>\n",
       "      <td>9.377778</td>\n",
       "      <td>9.377778</td>\n",
       "      <td>0.89</td>\n",
       "      <td>3.9284</td>\n",
       "      <td>204.0</td>\n",
       "      <td>14.9569</td>\n",
       "      <td>1015.94</td>\n",
       "      <td>Partly cloudy throughout the day.</td>\n",
       "    </tr>\n",
       "    <tr>\n",
       "      <th>3</th>\n",
       "      <td>2006-04-01 03:00:00.000 +0200</td>\n",
       "      <td>Partly Cloudy</td>\n",
       "      <td>rain</td>\n",
       "      <td>8.288889</td>\n",
       "      <td>5.944444</td>\n",
       "      <td>0.83</td>\n",
       "      <td>14.1036</td>\n",
       "      <td>269.0</td>\n",
       "      <td>15.8263</td>\n",
       "      <td>1016.41</td>\n",
       "      <td>Partly cloudy throughout the day.</td>\n",
       "    </tr>\n",
       "    <tr>\n",
       "      <th>4</th>\n",
       "      <td>2006-04-01 04:00:00.000 +0200</td>\n",
       "      <td>Mostly Cloudy</td>\n",
       "      <td>rain</td>\n",
       "      <td>8.755556</td>\n",
       "      <td>6.977778</td>\n",
       "      <td>0.83</td>\n",
       "      <td>11.0446</td>\n",
       "      <td>259.0</td>\n",
       "      <td>15.8263</td>\n",
       "      <td>1016.51</td>\n",
       "      <td>Partly cloudy throughout the day.</td>\n",
       "    </tr>\n",
       "  </tbody>\n",
       "</table>\n",
       "</div>"
      ],
      "text/plain": [
       "                  Formatted Date        Summary Precip Type  Temperature (C)  \\\n",
       "0  2006-04-01 00:00:00.000 +0200  Partly Cloudy        rain         9.472222   \n",
       "1  2006-04-01 01:00:00.000 +0200  Partly Cloudy        rain         9.355556   \n",
       "2  2006-04-01 02:00:00.000 +0200  Mostly Cloudy        rain         9.377778   \n",
       "3  2006-04-01 03:00:00.000 +0200  Partly Cloudy        rain         8.288889   \n",
       "4  2006-04-01 04:00:00.000 +0200  Mostly Cloudy        rain         8.755556   \n",
       "\n",
       "   Apparent Temperature (C)  Humidity  Wind Speed (km/h)  \\\n",
       "0                  7.388889      0.89            14.1197   \n",
       "1                  7.227778      0.86            14.2646   \n",
       "2                  9.377778      0.89             3.9284   \n",
       "3                  5.944444      0.83            14.1036   \n",
       "4                  6.977778      0.83            11.0446   \n",
       "\n",
       "   Wind Bearing (degrees)  Visibility (km)  Pressure (millibars)  \\\n",
       "0                   251.0          15.8263               1015.13   \n",
       "1                   259.0          15.8263               1015.63   \n",
       "2                   204.0          14.9569               1015.94   \n",
       "3                   269.0          15.8263               1016.41   \n",
       "4                   259.0          15.8263               1016.51   \n",
       "\n",
       "                       Daily Summary  \n",
       "0  Partly cloudy throughout the day.  \n",
       "1  Partly cloudy throughout the day.  \n",
       "2  Partly cloudy throughout the day.  \n",
       "3  Partly cloudy throughout the day.  \n",
       "4  Partly cloudy throughout the day.  "
      ]
     },
     "execution_count": 12,
     "metadata": {},
     "output_type": "execute_result"
    }
   ],
   "source": [
    "weather_df = weather_df.drop(['Loud Cover'], axis=1)\n",
    "weather_df.head()"
   ]
  },
  {
   "cell_type": "markdown",
   "id": "b744933a",
   "metadata": {},
   "source": [
    "##  Transformacja zmiennych kategorialnych \n"
   ]
  },
  {
   "cell_type": "code",
   "execution_count": 13,
   "id": "cbd37d61",
   "metadata": {},
   "outputs": [
    {
     "data": {
      "text/plain": [
       "array(['Partly Cloudy', 'Mostly Cloudy', 'Overcast', 'Foggy',\n",
       "       'Breezy and Mostly Cloudy', 'Clear', 'Breezy and Partly Cloudy',\n",
       "       'Breezy and Overcast', 'Humid and Mostly Cloudy',\n",
       "       'Humid and Partly Cloudy', 'Windy and Foggy', 'Windy and Overcast',\n",
       "       'Breezy and Foggy', 'Windy and Partly Cloudy', 'Breezy',\n",
       "       'Dry and Partly Cloudy', 'Windy and Mostly Cloudy',\n",
       "       'Dangerously Windy and Partly Cloudy', 'Dry', 'Windy',\n",
       "       'Humid and Overcast', 'Light Rain', 'Drizzle', 'Windy and Dry',\n",
       "       'Dry and Mostly Cloudy', 'Breezy and Dry', 'Rain'], dtype=object)"
      ]
     },
     "execution_count": 13,
     "metadata": {},
     "output_type": "execute_result"
    }
   ],
   "source": [
    "weather_df['Summary'].unique()"
   ]
  },
  {
   "cell_type": "markdown",
   "id": "1da6ada4",
   "metadata": {},
   "source": [
    "W tym kroku dokonujemy transformacji zmiennych kategorialych:\n",
    "- summary\n",
    "- precip type."
   ]
  },
  {
   "cell_type": "code",
   "execution_count": 14,
   "id": "c2b8d177",
   "metadata": {},
   "outputs": [],
   "source": [
    "weather_df['Summary'] = weather_df['Summary'].astype(\"category\")"
   ]
  },
  {
   "cell_type": "code",
   "execution_count": 15,
   "id": "51d39e42",
   "metadata": {},
   "outputs": [],
   "source": [
    "weather_df['Precip Type'] = weather_df['Precip Type'].astype(\"category\")"
   ]
  },
  {
   "cell_type": "code",
   "execution_count": 16,
   "id": "04940990",
   "metadata": {},
   "outputs": [
    {
     "name": "stdout",
     "output_type": "stream",
     "text": [
      "<class 'pandas.core.frame.DataFrame'>\n",
      "RangeIndex: 96453 entries, 0 to 96452\n",
      "Data columns (total 11 columns):\n",
      " #   Column                    Non-Null Count  Dtype   \n",
      "---  ------                    --------------  -----   \n",
      " 0   Formatted Date            96453 non-null  object  \n",
      " 1   Summary                   96453 non-null  category\n",
      " 2   Precip Type               96453 non-null  category\n",
      " 3   Temperature (C)           96453 non-null  float64 \n",
      " 4   Apparent Temperature (C)  96453 non-null  float64 \n",
      " 5   Humidity                  96453 non-null  float64 \n",
      " 6   Wind Speed (km/h)         96453 non-null  float64 \n",
      " 7   Wind Bearing (degrees)    96453 non-null  float64 \n",
      " 8   Visibility (km)           96453 non-null  float64 \n",
      " 9   Pressure (millibars)      96453 non-null  float64 \n",
      " 10  Daily Summary             96453 non-null  object  \n",
      "dtypes: category(2), float64(7), object(2)\n",
      "memory usage: 6.8+ MB\n"
     ]
    }
   ],
   "source": [
    "weather_df.info()"
   ]
  },
  {
   "cell_type": "markdown",
   "id": "96687995",
   "metadata": {},
   "source": [
    "## Zamiana indeksu\n",
    "\n",
    "W tym kroku dokonujemy zmiany indeksu z liczby porządkowej na  datę."
   ]
  },
  {
   "cell_type": "code",
   "execution_count": 17,
   "id": "630e01a9",
   "metadata": {},
   "outputs": [],
   "source": [
    "weather_df.set_index('Formatted Date', inplace=True)\n",
    "\n",
    "# pd.datetime"
   ]
  },
  {
   "cell_type": "code",
   "execution_count": 18,
   "id": "3bdd0b3a",
   "metadata": {},
   "outputs": [
    {
     "data": {
      "text/html": [
       "<div>\n",
       "<style scoped>\n",
       "    .dataframe tbody tr th:only-of-type {\n",
       "        vertical-align: middle;\n",
       "    }\n",
       "\n",
       "    .dataframe tbody tr th {\n",
       "        vertical-align: top;\n",
       "    }\n",
       "\n",
       "    .dataframe thead th {\n",
       "        text-align: right;\n",
       "    }\n",
       "</style>\n",
       "<table border=\"1\" class=\"dataframe\">\n",
       "  <thead>\n",
       "    <tr style=\"text-align: right;\">\n",
       "      <th></th>\n",
       "      <th>Summary</th>\n",
       "      <th>Precip Type</th>\n",
       "      <th>Temperature (C)</th>\n",
       "      <th>Apparent Temperature (C)</th>\n",
       "      <th>Humidity</th>\n",
       "      <th>Wind Speed (km/h)</th>\n",
       "      <th>Wind Bearing (degrees)</th>\n",
       "      <th>Visibility (km)</th>\n",
       "      <th>Pressure (millibars)</th>\n",
       "      <th>Daily Summary</th>\n",
       "    </tr>\n",
       "    <tr>\n",
       "      <th>Formatted Date</th>\n",
       "      <th></th>\n",
       "      <th></th>\n",
       "      <th></th>\n",
       "      <th></th>\n",
       "      <th></th>\n",
       "      <th></th>\n",
       "      <th></th>\n",
       "      <th></th>\n",
       "      <th></th>\n",
       "      <th></th>\n",
       "    </tr>\n",
       "  </thead>\n",
       "  <tbody>\n",
       "    <tr>\n",
       "      <th>2006-04-01 00:00:00.000 +0200</th>\n",
       "      <td>Partly Cloudy</td>\n",
       "      <td>rain</td>\n",
       "      <td>9.472222</td>\n",
       "      <td>7.388889</td>\n",
       "      <td>0.89</td>\n",
       "      <td>14.1197</td>\n",
       "      <td>251.0</td>\n",
       "      <td>15.8263</td>\n",
       "      <td>1015.13</td>\n",
       "      <td>Partly cloudy throughout the day.</td>\n",
       "    </tr>\n",
       "    <tr>\n",
       "      <th>2006-04-01 01:00:00.000 +0200</th>\n",
       "      <td>Partly Cloudy</td>\n",
       "      <td>rain</td>\n",
       "      <td>9.355556</td>\n",
       "      <td>7.227778</td>\n",
       "      <td>0.86</td>\n",
       "      <td>14.2646</td>\n",
       "      <td>259.0</td>\n",
       "      <td>15.8263</td>\n",
       "      <td>1015.63</td>\n",
       "      <td>Partly cloudy throughout the day.</td>\n",
       "    </tr>\n",
       "    <tr>\n",
       "      <th>2006-04-01 02:00:00.000 +0200</th>\n",
       "      <td>Mostly Cloudy</td>\n",
       "      <td>rain</td>\n",
       "      <td>9.377778</td>\n",
       "      <td>9.377778</td>\n",
       "      <td>0.89</td>\n",
       "      <td>3.9284</td>\n",
       "      <td>204.0</td>\n",
       "      <td>14.9569</td>\n",
       "      <td>1015.94</td>\n",
       "      <td>Partly cloudy throughout the day.</td>\n",
       "    </tr>\n",
       "  </tbody>\n",
       "</table>\n",
       "</div>"
      ],
      "text/plain": [
       "                                     Summary Precip Type  Temperature (C)  \\\n",
       "Formatted Date                                                              \n",
       "2006-04-01 00:00:00.000 +0200  Partly Cloudy        rain         9.472222   \n",
       "2006-04-01 01:00:00.000 +0200  Partly Cloudy        rain         9.355556   \n",
       "2006-04-01 02:00:00.000 +0200  Mostly Cloudy        rain         9.377778   \n",
       "\n",
       "                               Apparent Temperature (C)  Humidity  \\\n",
       "Formatted Date                                                      \n",
       "2006-04-01 00:00:00.000 +0200                  7.388889      0.89   \n",
       "2006-04-01 01:00:00.000 +0200                  7.227778      0.86   \n",
       "2006-04-01 02:00:00.000 +0200                  9.377778      0.89   \n",
       "\n",
       "                               Wind Speed (km/h)  Wind Bearing (degrees)  \\\n",
       "Formatted Date                                                             \n",
       "2006-04-01 00:00:00.000 +0200            14.1197                   251.0   \n",
       "2006-04-01 01:00:00.000 +0200            14.2646                   259.0   \n",
       "2006-04-01 02:00:00.000 +0200             3.9284                   204.0   \n",
       "\n",
       "                               Visibility (km)  Pressure (millibars)  \\\n",
       "Formatted Date                                                         \n",
       "2006-04-01 00:00:00.000 +0200          15.8263               1015.13   \n",
       "2006-04-01 01:00:00.000 +0200          15.8263               1015.63   \n",
       "2006-04-01 02:00:00.000 +0200          14.9569               1015.94   \n",
       "\n",
       "                                                   Daily Summary  \n",
       "Formatted Date                                                    \n",
       "2006-04-01 00:00:00.000 +0200  Partly cloudy throughout the day.  \n",
       "2006-04-01 01:00:00.000 +0200  Partly cloudy throughout the day.  \n",
       "2006-04-01 02:00:00.000 +0200  Partly cloudy throughout the day.  "
      ]
     },
     "execution_count": 18,
     "metadata": {},
     "output_type": "execute_result"
    }
   ],
   "source": [
    "weather_df.head(3)"
   ]
  },
  {
   "cell_type": "markdown",
   "id": "46a4b5a0",
   "metadata": {},
   "source": [
    "# Statystyka na zbiorze danych \n",
    "\n",
    "Wyświetlona poniżej tabela zawiera podstawowe informacje statystyczne takie jak: średnia, odchylenie standardowe, wartości minimalne i maksylane, dolny kwartyl, mediane, górny kwartyl. \n",
    "\n",
    "Dzięki temu jesteśmy w stanie przeprowadzić podstawową analizę statystyczną umożliwiającą między innymi wyłapanie wartości odstających."
   ]
  },
  {
   "cell_type": "code",
   "execution_count": 19,
   "id": "0d4edfbe",
   "metadata": {},
   "outputs": [
    {
     "data": {
      "text/html": [
       "<div>\n",
       "<style scoped>\n",
       "    .dataframe tbody tr th:only-of-type {\n",
       "        vertical-align: middle;\n",
       "    }\n",
       "\n",
       "    .dataframe tbody tr th {\n",
       "        vertical-align: top;\n",
       "    }\n",
       "\n",
       "    .dataframe thead th {\n",
       "        text-align: right;\n",
       "    }\n",
       "</style>\n",
       "<table border=\"1\" class=\"dataframe\">\n",
       "  <thead>\n",
       "    <tr style=\"text-align: right;\">\n",
       "      <th></th>\n",
       "      <th>Temperature (C)</th>\n",
       "      <th>Apparent Temperature (C)</th>\n",
       "      <th>Humidity</th>\n",
       "      <th>Wind Speed (km/h)</th>\n",
       "      <th>Wind Bearing (degrees)</th>\n",
       "      <th>Visibility (km)</th>\n",
       "      <th>Pressure (millibars)</th>\n",
       "    </tr>\n",
       "  </thead>\n",
       "  <tbody>\n",
       "    <tr>\n",
       "      <th>count</th>\n",
       "      <td>96453.000000</td>\n",
       "      <td>96453.000000</td>\n",
       "      <td>96453.000000</td>\n",
       "      <td>96453.000000</td>\n",
       "      <td>96453.000000</td>\n",
       "      <td>96453.000000</td>\n",
       "      <td>96453.000000</td>\n",
       "    </tr>\n",
       "    <tr>\n",
       "      <th>mean</th>\n",
       "      <td>11.932678</td>\n",
       "      <td>10.855029</td>\n",
       "      <td>0.734899</td>\n",
       "      <td>10.810640</td>\n",
       "      <td>187.509232</td>\n",
       "      <td>10.347325</td>\n",
       "      <td>1016.632822</td>\n",
       "    </tr>\n",
       "    <tr>\n",
       "      <th>std</th>\n",
       "      <td>9.551546</td>\n",
       "      <td>10.696847</td>\n",
       "      <td>0.195473</td>\n",
       "      <td>6.913571</td>\n",
       "      <td>107.383428</td>\n",
       "      <td>4.192123</td>\n",
       "      <td>7.881878</td>\n",
       "    </tr>\n",
       "    <tr>\n",
       "      <th>min</th>\n",
       "      <td>-21.822222</td>\n",
       "      <td>-27.716667</td>\n",
       "      <td>0.000000</td>\n",
       "      <td>0.000000</td>\n",
       "      <td>0.000000</td>\n",
       "      <td>0.000000</td>\n",
       "      <td>973.780000</td>\n",
       "    </tr>\n",
       "    <tr>\n",
       "      <th>25%</th>\n",
       "      <td>4.688889</td>\n",
       "      <td>2.311111</td>\n",
       "      <td>0.600000</td>\n",
       "      <td>5.828200</td>\n",
       "      <td>116.000000</td>\n",
       "      <td>8.339800</td>\n",
       "      <td>1011.900000</td>\n",
       "    </tr>\n",
       "    <tr>\n",
       "      <th>50%</th>\n",
       "      <td>12.000000</td>\n",
       "      <td>12.000000</td>\n",
       "      <td>0.780000</td>\n",
       "      <td>9.965900</td>\n",
       "      <td>180.000000</td>\n",
       "      <td>10.046400</td>\n",
       "      <td>1016.450000</td>\n",
       "    </tr>\n",
       "    <tr>\n",
       "      <th>75%</th>\n",
       "      <td>18.838889</td>\n",
       "      <td>18.838889</td>\n",
       "      <td>0.890000</td>\n",
       "      <td>14.135800</td>\n",
       "      <td>290.000000</td>\n",
       "      <td>14.812000</td>\n",
       "      <td>1021.090000</td>\n",
       "    </tr>\n",
       "    <tr>\n",
       "      <th>max</th>\n",
       "      <td>39.905556</td>\n",
       "      <td>39.344444</td>\n",
       "      <td>1.000000</td>\n",
       "      <td>63.852600</td>\n",
       "      <td>359.000000</td>\n",
       "      <td>16.100000</td>\n",
       "      <td>1046.380000</td>\n",
       "    </tr>\n",
       "  </tbody>\n",
       "</table>\n",
       "</div>"
      ],
      "text/plain": [
       "       Temperature (C)  Apparent Temperature (C)      Humidity  \\\n",
       "count     96453.000000              96453.000000  96453.000000   \n",
       "mean         11.932678                 10.855029      0.734899   \n",
       "std           9.551546                 10.696847      0.195473   \n",
       "min         -21.822222                -27.716667      0.000000   \n",
       "25%           4.688889                  2.311111      0.600000   \n",
       "50%          12.000000                 12.000000      0.780000   \n",
       "75%          18.838889                 18.838889      0.890000   \n",
       "max          39.905556                 39.344444      1.000000   \n",
       "\n",
       "       Wind Speed (km/h)  Wind Bearing (degrees)  Visibility (km)  \\\n",
       "count       96453.000000            96453.000000     96453.000000   \n",
       "mean           10.810640              187.509232        10.347325   \n",
       "std             6.913571              107.383428         4.192123   \n",
       "min             0.000000                0.000000         0.000000   \n",
       "25%             5.828200              116.000000         8.339800   \n",
       "50%             9.965900              180.000000        10.046400   \n",
       "75%            14.135800              290.000000        14.812000   \n",
       "max            63.852600              359.000000        16.100000   \n",
       "\n",
       "       Pressure (millibars)  \n",
       "count          96453.000000  \n",
       "mean            1016.632822  \n",
       "std                7.881878  \n",
       "min              973.780000  \n",
       "25%             1011.900000  \n",
       "50%             1016.450000  \n",
       "75%             1021.090000  \n",
       "max             1046.380000  "
      ]
     },
     "execution_count": 19,
     "metadata": {},
     "output_type": "execute_result"
    }
   ],
   "source": [
    "weather_df.describe()"
   ]
  },
  {
   "cell_type": "markdown",
   "id": "a885b715",
   "metadata": {},
   "source": [
    "Nastepnie badamy korelację dannych. \n",
    "Współczynnik korelacji przyjmuje wartości z przedziału [-1,1]. Koleracja dodatnia mówi nam, że wraz ze wzrtostem wartości jednej cechy następuje wzrost wartości drugiej cechy. Natomiast korelacja ujemna następuje wtedy, gdy przy wzroście jednej cechy, wartość drugiej maleje. \n",
    "Przy wartości korelacji 0 wartości nie są ze sobą skorelowane."
   ]
  },
  {
   "cell_type": "code",
   "execution_count": 20,
   "id": "933d9d13",
   "metadata": {
    "scrolled": false
   },
   "outputs": [
    {
     "data": {
      "text/html": [
       "<div>\n",
       "<style scoped>\n",
       "    .dataframe tbody tr th:only-of-type {\n",
       "        vertical-align: middle;\n",
       "    }\n",
       "\n",
       "    .dataframe tbody tr th {\n",
       "        vertical-align: top;\n",
       "    }\n",
       "\n",
       "    .dataframe thead th {\n",
       "        text-align: right;\n",
       "    }\n",
       "</style>\n",
       "<table border=\"1\" class=\"dataframe\">\n",
       "  <thead>\n",
       "    <tr style=\"text-align: right;\">\n",
       "      <th></th>\n",
       "      <th>Temperature (C)</th>\n",
       "      <th>Apparent Temperature (C)</th>\n",
       "      <th>Humidity</th>\n",
       "      <th>Wind Speed (km/h)</th>\n",
       "      <th>Wind Bearing (degrees)</th>\n",
       "      <th>Visibility (km)</th>\n",
       "      <th>Pressure (millibars)</th>\n",
       "    </tr>\n",
       "  </thead>\n",
       "  <tbody>\n",
       "    <tr>\n",
       "      <th>Temperature (C)</th>\n",
       "      <td>1.000000</td>\n",
       "      <td>0.992629</td>\n",
       "      <td>-0.632255</td>\n",
       "      <td>0.008957</td>\n",
       "      <td>0.029988</td>\n",
       "      <td>0.392847</td>\n",
       "      <td>-0.299165</td>\n",
       "    </tr>\n",
       "    <tr>\n",
       "      <th>Apparent Temperature (C)</th>\n",
       "      <td>0.992629</td>\n",
       "      <td>1.000000</td>\n",
       "      <td>-0.602571</td>\n",
       "      <td>-0.056650</td>\n",
       "      <td>0.029031</td>\n",
       "      <td>0.381718</td>\n",
       "      <td>-0.276830</td>\n",
       "    </tr>\n",
       "    <tr>\n",
       "      <th>Humidity</th>\n",
       "      <td>-0.632255</td>\n",
       "      <td>-0.602571</td>\n",
       "      <td>1.000000</td>\n",
       "      <td>-0.224951</td>\n",
       "      <td>0.000735</td>\n",
       "      <td>-0.369173</td>\n",
       "      <td>0.038817</td>\n",
       "    </tr>\n",
       "    <tr>\n",
       "      <th>Wind Speed (km/h)</th>\n",
       "      <td>0.008957</td>\n",
       "      <td>-0.056650</td>\n",
       "      <td>-0.224951</td>\n",
       "      <td>1.000000</td>\n",
       "      <td>0.103822</td>\n",
       "      <td>0.100749</td>\n",
       "      <td>-0.252731</td>\n",
       "    </tr>\n",
       "    <tr>\n",
       "      <th>Wind Bearing (degrees)</th>\n",
       "      <td>0.029988</td>\n",
       "      <td>0.029031</td>\n",
       "      <td>0.000735</td>\n",
       "      <td>0.103822</td>\n",
       "      <td>1.000000</td>\n",
       "      <td>0.047594</td>\n",
       "      <td>-0.077918</td>\n",
       "    </tr>\n",
       "    <tr>\n",
       "      <th>Visibility (km)</th>\n",
       "      <td>0.392847</td>\n",
       "      <td>0.381718</td>\n",
       "      <td>-0.369173</td>\n",
       "      <td>0.100749</td>\n",
       "      <td>0.047594</td>\n",
       "      <td>1.000000</td>\n",
       "      <td>-0.147713</td>\n",
       "    </tr>\n",
       "    <tr>\n",
       "      <th>Pressure (millibars)</th>\n",
       "      <td>-0.299165</td>\n",
       "      <td>-0.276830</td>\n",
       "      <td>0.038817</td>\n",
       "      <td>-0.252731</td>\n",
       "      <td>-0.077918</td>\n",
       "      <td>-0.147713</td>\n",
       "      <td>1.000000</td>\n",
       "    </tr>\n",
       "  </tbody>\n",
       "</table>\n",
       "</div>"
      ],
      "text/plain": [
       "                          Temperature (C)  Apparent Temperature (C)  Humidity  \\\n",
       "Temperature (C)                  1.000000                  0.992629 -0.632255   \n",
       "Apparent Temperature (C)         0.992629                  1.000000 -0.602571   \n",
       "Humidity                        -0.632255                 -0.602571  1.000000   \n",
       "Wind Speed (km/h)                0.008957                 -0.056650 -0.224951   \n",
       "Wind Bearing (degrees)           0.029988                  0.029031  0.000735   \n",
       "Visibility (km)                  0.392847                  0.381718 -0.369173   \n",
       "Pressure (millibars)            -0.299165                 -0.276830  0.038817   \n",
       "\n",
       "                          Wind Speed (km/h)  Wind Bearing (degrees)  \\\n",
       "Temperature (C)                    0.008957                0.029988   \n",
       "Apparent Temperature (C)          -0.056650                0.029031   \n",
       "Humidity                          -0.224951                0.000735   \n",
       "Wind Speed (km/h)                  1.000000                0.103822   \n",
       "Wind Bearing (degrees)             0.103822                1.000000   \n",
       "Visibility (km)                    0.100749                0.047594   \n",
       "Pressure (millibars)              -0.252731               -0.077918   \n",
       "\n",
       "                          Visibility (km)  Pressure (millibars)  \n",
       "Temperature (C)                  0.392847             -0.299165  \n",
       "Apparent Temperature (C)         0.381718             -0.276830  \n",
       "Humidity                        -0.369173              0.038817  \n",
       "Wind Speed (km/h)                0.100749             -0.252731  \n",
       "Wind Bearing (degrees)           0.047594             -0.077918  \n",
       "Visibility (km)                  1.000000             -0.147713  \n",
       "Pressure (millibars)            -0.147713              1.000000  "
      ]
     },
     "execution_count": 20,
     "metadata": {},
     "output_type": "execute_result"
    }
   ],
   "source": [
    "corr= weather_df.corr()\n",
    "corr"
   ]
  },
  {
   "cell_type": "markdown",
   "id": "42b2496c",
   "metadata": {},
   "source": [
    "W następnym kroku tworzymy heatmap, która w sposób graficzny pokazuje które parametry są ze sobą skorelowane."
   ]
  },
  {
   "cell_type": "code",
   "execution_count": 21,
   "id": "6ec39215",
   "metadata": {
    "scrolled": true
   },
   "outputs": [
    {
     "data": {
      "text/plain": [
       "<AxesSubplot:>"
      ]
     },
     "execution_count": 21,
     "metadata": {},
     "output_type": "execute_result"
    },
    {
     "data": {
      "image/png": "[encoded data removed]",
      "text/plain": [
       "<Figure size 432x288 with 2 Axes>"
      ]
     },
     "metadata": {
      "needs_background": "light"
     },
     "output_type": "display_data"
    }
   ],
   "source": [
    "sns.heatmap(corr)"
   ]
  },
  {
   "cell_type": "markdown",
   "id": "e6da7070",
   "metadata": {},
   "source": [
    "W tak powstałej heatmapie widzimy, że bardzo silnie jest ze sobą skorelowana dodatnio temperatura z temperaturą odczuwalną. Na poziomie 0.4 skorelowane dodatnio są ze sobą temperatura z widocznością oraz temperatura odczuwalna z widocznością.\n",
    "Silna korelacja ujemna jest dla temperatury/ temperatury odczuwalnej i wilgotności ."
   ]
  },
  {
   "cell_type": "markdown",
   "id": "224b57ee",
   "metadata": {},
   "source": [
    "#  Preprocessing\n",
    "\n",
    "Używanie danych kategorialnych w wielu modelach regresji to skuteczna metoda włączania nienumerycznych typów danych do modelu regresji. Dane kategoryczne odnoszą się do wartości danych, które reprezentują kategorie - wartości danych ze stałą i nieuporządkowaną liczbą wartości, na przykład płeć (mężczyzna/kobieta) lub pora roku (lato/winder/wiosna/jesień). W modelu regresji wartości te mogą być reprezentowane przez zmienne fikcyjne - zmienne zawierające wartości takie jak 1 lub 0 reprezentujące obecność lub brak wartości kategorycznej.\n",
    "Uwzględniając zmienną fikcyjną w modelu regresji, należy jednak uważać na dummy variable trap. Dummy variable trap to scenariusz, w którym zmienne niezależne są współliniowe — scenariusz, w którym dwie lub więcej zmiennych jest silnie skorelowanych; w uproszczeniu jedną zmienną można przewidzieć na podstawie pozostałych."
   ]
  },
  {
   "cell_type": "code",
   "execution_count": 22,
   "id": "1f7e1b31",
   "metadata": {},
   "outputs": [],
   "source": [
    "# Dummy variable\n",
    "\n",
    "categorical_columns_ls = weather_df.select_dtypes(\n",
    "    [\"object\", \"category\"]\n",
    ").columns.to_list()\n",
    "\n",
    "weather_encoded_df = pd.get_dummies(\n",
    "    data=weather_df,\n",
    "    prefix_sep=\"_\",\n",
    "    columns=categorical_columns_ls,\n",
    "    drop_first=True,\n",
    "    dtype=\"int8\",\n",
    ")"
   ]
  },
  {
   "cell_type": "markdown",
   "id": "230a64f3",
   "metadata": {},
   "source": [
    "W naszym przypadku zmiennymi kategorycznymi są summary, precip type oraz daily summary."
   ]
  },
  {
   "cell_type": "code",
   "execution_count": 23,
   "id": "5c40db4b",
   "metadata": {},
   "outputs": [
    {
     "data": {
      "text/plain": [
       "['Summary', 'Precip Type', 'Daily Summary']"
      ]
     },
     "execution_count": 23,
     "metadata": {},
     "output_type": "execute_result"
    }
   ],
   "source": [
    "categorical_columns_ls"
   ]
  },
  {
   "cell_type": "code",
   "execution_count": 24,
   "id": "423d535a",
   "metadata": {
    "scrolled": true
   },
   "outputs": [
    {
     "name": "stdout",
     "output_type": "stream",
     "text": [
      "Kolumny w oryginalnej ramce danych: ['Summary' 'Precip Type' 'Temperature (C)' 'Apparent Temperature (C)'\n",
      " 'Humidity' 'Wind Speed (km/h)' 'Wind Bearing (degrees)' 'Visibility (km)'\n",
      " 'Pressure (millibars)' 'Daily Summary']\n",
      "Liczba wierszy i kolumn w oryginalnej ramce danych: (96453, 10)\n",
      "Kolumny w ramce danych po transformacji: ['Temperature (C)' 'Apparent Temperature (C)' 'Humidity'\n",
      " 'Wind Speed (km/h)' 'Wind Bearing (degrees)' 'Visibility (km)'\n",
      " 'Pressure (millibars)' 'Summary_Breezy and Dry'\n",
      " 'Summary_Breezy and Foggy' 'Summary_Breezy and Mostly Cloudy'\n",
      " 'Summary_Breezy and Overcast' 'Summary_Breezy and Partly Cloudy'\n",
      " 'Summary_Clear' 'Summary_Dangerously Windy and Partly Cloudy'\n",
      " 'Summary_Drizzle' 'Summary_Dry' 'Summary_Dry and Mostly Cloudy'\n",
      " 'Summary_Dry and Partly Cloudy' 'Summary_Foggy'\n",
      " 'Summary_Humid and Mostly Cloudy' 'Summary_Humid and Overcast'\n",
      " 'Summary_Humid and Partly Cloudy' 'Summary_Light Rain'\n",
      " 'Summary_Mostly Cloudy' 'Summary_Overcast' 'Summary_Partly Cloudy'\n",
      " 'Summary_Rain' 'Summary_Windy' 'Summary_Windy and Dry'\n",
      " 'Summary_Windy and Foggy' 'Summary_Windy and Mostly Cloudy'\n",
      " 'Summary_Windy and Overcast' 'Summary_Windy and Partly Cloudy'\n",
      " 'Precip Type_rain' 'Precip Type_snow'\n",
      " 'Daily Summary_Breezy and foggy until morning.'\n",
      " 'Daily Summary_Breezy and mostly cloudy overnight.'\n",
      " 'Daily Summary_Breezy and partly cloudy in the afternoon.'\n",
      " 'Daily Summary_Breezy in the morning and foggy in the evening.'\n",
      " 'Daily Summary_Breezy in the morning and mostly cloudy starting in the evening.'\n",
      " 'Daily Summary_Breezy in the morning and mostly cloudy starting in the morning.'\n",
      " 'Daily Summary_Breezy in the morning and partly cloudy starting in the evening continuing until night.'\n",
      " 'Daily Summary_Breezy overnight and mostly cloudy throughout the day.'\n",
      " 'Daily Summary_Breezy overnight and overcast throughout the day.'\n",
      " 'Daily Summary_Breezy overnight and partly cloudy throughout the day.'\n",
      " 'Daily Summary_Breezy overnight and partly cloudy until evening.'\n",
      " 'Daily Summary_Breezy starting in the afternoon continuing until evening and foggy in the evening.'\n",
      " 'Daily Summary_Breezy starting in the afternoon continuing until evening and foggy starting in the evening.'\n",
      " 'Daily Summary_Breezy starting in the afternoon continuing until night and mostly cloudy starting in the evening.'\n",
      " 'Daily Summary_Breezy starting in the morning continuing until afternoon and mostly cloudy starting in the morning.'\n",
      " 'Daily Summary_Breezy starting in the morning continuing until afternoon and partly cloudy starting in the morning.'\n",
      " 'Daily Summary_Breezy starting in the morning continuing until night.'\n",
      " 'Daily Summary_Breezy starting overnight continuing until afternoon and foggy starting in the morning continuing until evening.'\n",
      " 'Daily Summary_Breezy starting overnight continuing until afternoon and mostly cloudy starting overnight continuing until evening.'\n",
      " 'Daily Summary_Breezy starting overnight continuing until morning and foggy in the evening.'\n",
      " 'Daily Summary_Breezy starting overnight continuing until morning and foggy overnight.'\n",
      " 'Daily Summary_Breezy starting overnight continuing until morning and partly cloudy starting in the morning.'\n",
      " 'Daily Summary_Breezy starting overnight continuing until morning and partly cloudy starting overnight continuing until evening.'\n",
      " 'Daily Summary_Breezy starting overnight continuing until morning.'\n",
      " 'Daily Summary_Breezy until afternoon and mostly cloudy throughout the day.'\n",
      " 'Daily Summary_Breezy until afternoon and overcast throughout the day.'\n",
      " 'Daily Summary_Breezy until evening and foggy in the morning.'\n",
      " 'Daily Summary_Breezy until morning and mostly cloudy throughout the day.'\n",
      " 'Daily Summary_Clear throughout the day.'\n",
      " 'Daily Summary_Drizzle starting in the evening.'\n",
      " 'Daily Summary_Drizzle until morning.'\n",
      " 'Daily Summary_Foggy in the afternoon.'\n",
      " 'Daily Summary_Foggy in the evening.'\n",
      " 'Daily Summary_Foggy in the morning and breezy starting in the afternoon continuing until night.'\n",
      " 'Daily Summary_Foggy in the morning.'\n",
      " 'Daily Summary_Foggy overnight and breezy in the morning.'\n",
      " 'Daily Summary_Foggy overnight.'\n",
      " 'Daily Summary_Foggy starting in the afternoon and breezy starting in the afternoon continuing until evening.'\n",
      " 'Daily Summary_Foggy starting in the afternoon continuing until evening.'\n",
      " 'Daily Summary_Foggy starting in the afternoon continuing until night.'\n",
      " 'Daily Summary_Foggy starting in the afternoon.'\n",
      " 'Daily Summary_Foggy starting in the evening continuing until night.'\n",
      " 'Daily Summary_Foggy starting in the evening.'\n",
      " 'Daily Summary_Foggy starting in the morning continuing until afternoon and breezy starting in the evening.'\n",
      " 'Daily Summary_Foggy starting in the morning continuing until afternoon.'\n",
      " 'Daily Summary_Foggy starting in the morning continuing until evening and breezy in the evening.'\n",
      " 'Daily Summary_Foggy starting in the morning continuing until evening.'\n",
      " 'Daily Summary_Foggy starting in the morning continuing until night.'\n",
      " 'Daily Summary_Foggy starting in the morning.'\n",
      " 'Daily Summary_Foggy starting overnight continuing until afternoon and breezy in the morning.'\n",
      " 'Daily Summary_Foggy starting overnight continuing until afternoon.'\n",
      " 'Daily Summary_Foggy starting overnight continuing until evening.'\n",
      " 'Daily Summary_Foggy starting overnight continuing until morning and breezy in the afternoon.'\n",
      " 'Daily Summary_Foggy starting overnight continuing until morning and breezy starting in the evening continuing until night.'\n",
      " 'Daily Summary_Foggy starting overnight continuing until morning and breezy starting in the evening.'\n",
      " 'Daily Summary_Foggy starting overnight continuing until morning and breezy starting in the morning continuing until afternoon.'\n",
      " 'Daily Summary_Foggy starting overnight continuing until morning.'\n",
      " 'Daily Summary_Foggy starting overnight continuing until night.'\n",
      " 'Daily Summary_Foggy starting overnight.'\n",
      " 'Daily Summary_Foggy throughout the day.'\n",
      " 'Daily Summary_Foggy until afternoon.'\n",
      " 'Daily Summary_Foggy until evening.' 'Daily Summary_Foggy until morning.'\n",
      " 'Daily Summary_Foggy until night.'\n",
      " 'Daily Summary_Light rain in the morning and afternoon.'\n",
      " 'Daily Summary_Light rain in the morning.'\n",
      " 'Daily Summary_Light rain overnight.'\n",
      " 'Daily Summary_Light rain starting overnight.'\n",
      " 'Daily Summary_Light rain until morning.'\n",
      " 'Daily Summary_Mostly cloudy overnight.'\n",
      " 'Daily Summary_Mostly cloudy starting in the afternoon continuing until night.'\n",
      " 'Daily Summary_Mostly cloudy starting in the afternoon.'\n",
      " 'Daily Summary_Mostly cloudy starting in the evening.'\n",
      " 'Daily Summary_Mostly cloudy starting in the morning and breezy in the afternoon.'\n",
      " 'Daily Summary_Mostly cloudy starting in the morning and breezy in the evening.'\n",
      " 'Daily Summary_Mostly cloudy starting in the morning and breezy overnight.'\n",
      " 'Daily Summary_Mostly cloudy starting in the morning and breezy starting in the afternoon continuing until evening.'\n",
      " 'Daily Summary_Mostly cloudy starting in the morning and windy in the evening.'\n",
      " 'Daily Summary_Mostly cloudy starting in the morning continuing until afternoon.'\n",
      " 'Daily Summary_Mostly cloudy starting in the morning continuing until evening.'\n",
      " 'Daily Summary_Mostly cloudy starting in the morning continuing until night and breezy in the afternoon.'\n",
      " 'Daily Summary_Mostly cloudy starting in the morning continuing until night.'\n",
      " 'Daily Summary_Mostly cloudy starting in the morning.'\n",
      " 'Daily Summary_Mostly cloudy starting overnight and breezy in the afternoon.'\n",
      " 'Daily Summary_Mostly cloudy starting overnight and breezy in the morning.'\n",
      " 'Daily Summary_Mostly cloudy starting overnight and breezy starting in the afternoon continuing until evening.'\n",
      " 'Daily Summary_Mostly cloudy starting overnight and breezy starting in the evening.'\n",
      " 'Daily Summary_Mostly cloudy starting overnight and breezy starting in the morning continuing until afternoon.'\n",
      " 'Daily Summary_Mostly cloudy starting overnight continuing until afternoon.'\n",
      " 'Daily Summary_Mostly cloudy starting overnight continuing until evening and breezy starting overnight continuing until morning.'\n",
      " 'Daily Summary_Mostly cloudy starting overnight continuing until evening.'\n",
      " 'Daily Summary_Mostly cloudy starting overnight continuing until morning.'\n",
      " 'Daily Summary_Mostly cloudy starting overnight continuing until night and breezy starting in the morning continuing until evening.'\n",
      " 'Daily Summary_Mostly cloudy starting overnight continuing until night.'\n",
      " 'Daily Summary_Mostly cloudy starting overnight.'\n",
      " 'Daily Summary_Mostly cloudy throughout the day and breezy in the afternoon.'\n",
      " 'Daily Summary_Mostly cloudy throughout the day and breezy in the evening.'\n",
      " 'Daily Summary_Mostly cloudy throughout the day and breezy in the morning.'\n",
      " 'Daily Summary_Mostly cloudy throughout the day and breezy overnight.'\n",
      " 'Daily Summary_Mostly cloudy throughout the day and breezy starting in the afternoon continuing until evening.'\n",
      " 'Daily Summary_Mostly cloudy throughout the day and breezy starting in the afternoon.'\n",
      " 'Daily Summary_Mostly cloudy throughout the day and breezy starting in the evening continuing until night.'\n",
      " 'Daily Summary_Mostly cloudy throughout the day and breezy starting in the evening.'\n",
      " 'Daily Summary_Mostly cloudy throughout the day and breezy starting in the morning continuing until afternoon.'\n",
      " 'Daily Summary_Mostly cloudy throughout the day and breezy starting in the morning continuing until evening.'\n",
      " 'Daily Summary_Mostly cloudy throughout the day and breezy starting in the morning continuing until night.'\n",
      " 'Daily Summary_Mostly cloudy throughout the day and breezy starting overnight continuing until afternoon.'\n",
      " 'Daily Summary_Mostly cloudy throughout the day and breezy starting overnight continuing until morning.'\n",
      " 'Daily Summary_Mostly cloudy throughout the day and windy starting in the morning continuing until evening.'\n",
      " 'Daily Summary_Mostly cloudy throughout the day and windy starting in the morning continuing until night.'\n",
      " 'Daily Summary_Mostly cloudy throughout the day.'\n",
      " 'Daily Summary_Mostly cloudy until afternoon.'\n",
      " 'Daily Summary_Mostly cloudy until evening and breezy in the afternoon.'\n",
      " 'Daily Summary_Mostly cloudy until evening and breezy in the evening.'\n",
      " 'Daily Summary_Mostly cloudy until evening and breezy starting in the morning continuing until afternoon.'\n",
      " 'Daily Summary_Mostly cloudy until evening and breezy starting overnight continuing until morning.'\n",
      " 'Daily Summary_Mostly cloudy until evening and windy starting in the morning continuing until afternoon.'\n",
      " 'Daily Summary_Mostly cloudy until evening.'\n",
      " 'Daily Summary_Mostly cloudy until morning.'\n",
      " 'Daily Summary_Mostly cloudy until night and breezy in the afternoon.'\n",
      " 'Daily Summary_Mostly cloudy until night and breezy in the evening.'\n",
      " 'Daily Summary_Mostly cloudy until night and breezy overnight.'\n",
      " 'Daily Summary_Mostly cloudy until night and breezy starting in the afternoon continuing until evening.'\n",
      " 'Daily Summary_Mostly cloudy until night and breezy starting in the afternoon continuing until night.'\n",
      " 'Daily Summary_Mostly cloudy until night and breezy starting in the afternoon.'\n",
      " 'Daily Summary_Mostly cloudy until night and breezy starting in the evening continuing until night.'\n",
      " 'Daily Summary_Mostly cloudy until night and breezy starting in the evening.'\n",
      " 'Daily Summary_Mostly cloudy until night and breezy starting in the morning continuing until afternoon.'\n",
      " 'Daily Summary_Mostly cloudy until night and breezy starting in the morning continuing until evening.'\n",
      " 'Daily Summary_Mostly cloudy until night and breezy starting overnight continuing until morning.'\n",
      " 'Daily Summary_Mostly cloudy until night and windy starting in the morning continuing until afternoon.'\n",
      " 'Daily Summary_Mostly cloudy until night.'\n",
      " 'Daily Summary_Overcast starting in the afternoon.'\n",
      " 'Daily Summary_Overcast starting in the morning.'\n",
      " 'Daily Summary_Overcast throughout the day and breezy in the afternoon.'\n",
      " 'Daily Summary_Overcast throughout the day and breezy in the evening.'\n",
      " 'Daily Summary_Overcast throughout the day and breezy in the morning.'\n",
      " 'Daily Summary_Overcast throughout the day and breezy overnight.'\n",
      " 'Daily Summary_Overcast throughout the day and breezy starting in the evening.'\n",
      " 'Daily Summary_Overcast throughout the day and breezy starting in the morning continuing until evening.'\n",
      " 'Daily Summary_Overcast throughout the day and breezy starting overnight continuing until afternoon.'\n",
      " 'Daily Summary_Overcast throughout the day and breezy starting overnight continuing until morning.'\n",
      " 'Daily Summary_Overcast throughout the day.'\n",
      " 'Daily Summary_Overcast until evening.'\n",
      " 'Daily Summary_Overcast until morning.'\n",
      " 'Daily Summary_Overcast until night and breezy overnight.'\n",
      " 'Daily Summary_Overcast until night.'\n",
      " 'Daily Summary_Partly cloudy in the afternoon.'\n",
      " 'Daily Summary_Partly cloudy in the evening.'\n",
      " 'Daily Summary_Partly cloudy in the morning.'\n",
      " 'Daily Summary_Partly cloudy overnight and breezy starting in the morning continuing until afternoon.'\n",
      " 'Daily Summary_Partly cloudy overnight.'\n",
      " 'Daily Summary_Partly cloudy starting in the afternoon and breezy in the afternoon.'\n",
      " 'Daily Summary_Partly cloudy starting in the afternoon continuing until evening.'\n",
      " 'Daily Summary_Partly cloudy starting in the afternoon continuing until night.'\n",
      " 'Daily Summary_Partly cloudy starting in the afternoon.'\n",
      " 'Daily Summary_Partly cloudy starting in the evening continuing until night.'\n",
      " 'Daily Summary_Partly cloudy starting in the evening.'\n",
      " 'Daily Summary_Partly cloudy starting in the morning and breezy in the evening.'\n",
      " 'Daily Summary_Partly cloudy starting in the morning and breezy starting in the afternoon continuing until evening.'\n",
      " 'Daily Summary_Partly cloudy starting in the morning and breezy starting in the morning continuing until afternoon.'\n",
      " 'Daily Summary_Partly cloudy starting in the morning continuing until afternoon.'\n",
      " 'Daily Summary_Partly cloudy starting in the morning continuing until evening and breezy in the afternoon.'\n",
      " 'Daily Summary_Partly cloudy starting in the morning continuing until evening and breezy starting in the afternoon continuing until evening.'\n",
      " 'Daily Summary_Partly cloudy starting in the morning continuing until evening and breezy starting in the morning continuing until afternoon.'\n",
      " 'Daily Summary_Partly cloudy starting in the morning continuing until evening.'\n",
      " 'Daily Summary_Partly cloudy starting in the morning continuing until night and breezy starting in the afternoon continuing until evening.'\n",
      " 'Daily Summary_Partly cloudy starting in the morning continuing until night and breezy starting in the morning continuing until afternoon.'\n",
      " 'Daily Summary_Partly cloudy starting in the morning continuing until night.'\n",
      " 'Daily Summary_Partly cloudy starting in the morning.'\n",
      " 'Daily Summary_Partly cloudy starting overnight and breezy in the afternoon.'\n",
      " 'Daily Summary_Partly cloudy starting overnight and breezy starting in the evening.'\n",
      " 'Daily Summary_Partly cloudy starting overnight and breezy starting in the morning continuing until afternoon.'\n",
      " 'Daily Summary_Partly cloudy starting overnight continuing until afternoon and breezy in the afternoon.'\n",
      " 'Daily Summary_Partly cloudy starting overnight continuing until afternoon.'\n",
      " 'Daily Summary_Partly cloudy starting overnight continuing until evening and breezy in the evening.'\n",
      " 'Daily Summary_Partly cloudy starting overnight continuing until evening and breezy in the morning.'\n",
      " 'Daily Summary_Partly cloudy starting overnight continuing until evening and breezy starting in the morning continuing until afternoon.'\n",
      " 'Daily Summary_Partly cloudy starting overnight continuing until evening and breezy starting in the morning continuing until evening.'\n",
      " 'Daily Summary_Partly cloudy starting overnight continuing until evening and windy starting in the morning continuing until evening.'\n",
      " 'Daily Summary_Partly cloudy starting overnight continuing until evening.'\n",
      " 'Daily Summary_Partly cloudy starting overnight continuing until morning and breezy starting in the morning continuing until afternoon.'\n",
      " 'Daily Summary_Partly cloudy starting overnight continuing until morning.'\n",
      " 'Daily Summary_Partly cloudy starting overnight continuing until night and breezy in the afternoon.'\n",
      " 'Daily Summary_Partly cloudy starting overnight continuing until night and breezy in the morning.'\n",
      " 'Daily Summary_Partly cloudy starting overnight continuing until night and windy starting in the morning continuing until afternoon.'\n",
      " 'Daily Summary_Partly cloudy starting overnight continuing until night.'\n",
      " 'Daily Summary_Partly cloudy starting overnight.'\n",
      " 'Daily Summary_Partly cloudy throughout the day and breezy in the afternoon.'\n",
      " 'Daily Summary_Partly cloudy throughout the day and breezy in the evening.'\n",
      " 'Daily Summary_Partly cloudy throughout the day and breezy in the morning.'\n",
      " 'Daily Summary_Partly cloudy throughout the day and breezy starting in the afternoon continuing until evening.'\n",
      " 'Daily Summary_Partly cloudy throughout the day and breezy starting in the morning continuing until afternoon.'\n",
      " 'Daily Summary_Partly cloudy throughout the day and breezy starting in the morning continuing until evening.'\n",
      " 'Daily Summary_Partly cloudy throughout the day and breezy starting in the morning continuing until night.'\n",
      " 'Daily Summary_Partly cloudy throughout the day and windy starting in the morning continuing until afternoon.'\n",
      " 'Daily Summary_Partly cloudy throughout the day.'\n",
      " 'Daily Summary_Partly cloudy until afternoon.'\n",
      " 'Daily Summary_Partly cloudy until evening and breezy in the afternoon.'\n",
      " 'Daily Summary_Partly cloudy until evening and breezy in the morning.'\n",
      " 'Daily Summary_Partly cloudy until evening and breezy overnight.'\n",
      " 'Daily Summary_Partly cloudy until evening and breezy starting in the morning continuing until afternoon.'\n",
      " 'Daily Summary_Partly cloudy until evening and breezy starting in the morning continuing until evening.'\n",
      " 'Daily Summary_Partly cloudy until evening.'\n",
      " 'Daily Summary_Partly cloudy until morning.'\n",
      " 'Daily Summary_Partly cloudy until night and breezy in the afternoon.'\n",
      " 'Daily Summary_Partly cloudy until night and breezy in the morning.'\n",
      " 'Daily Summary_Partly cloudy until night and breezy starting in the morning continuing until afternoon.'\n",
      " 'Daily Summary_Partly cloudy until night.'\n",
      " 'Daily Summary_Rain throughout the day.'\n",
      " 'Daily Summary_Rain until afternoon.' 'Daily Summary_Rain until morning.'\n",
      " 'Daily Summary_Windy in the afternoon.']\n",
      "Liczba wierszy i kolumn po transformacji: (96453, 248)\n"
     ]
    }
   ],
   "source": [
    "print(f\"Kolumny w oryginalnej ramce danych: {weather_df.columns.values}\")\n",
    "print(f\"Liczba wierszy i kolumn w oryginalnej ramce danych: {weather_df.shape}\")\n",
    "\n",
    "print(f\"Kolumny w ramce danych po transformacji: {weather_encoded_df.columns.values}\")\n",
    "print(f\"Liczba wierszy i kolumn po transformacji: {weather_encoded_df.shape}\")"
   ]
  },
  {
   "cell_type": "code",
   "execution_count": 25,
   "id": "3acfefe8",
   "metadata": {},
   "outputs": [
    {
     "data": {
      "text/html": [
       "<div>\n",
       "<style scoped>\n",
       "    .dataframe tbody tr th:only-of-type {\n",
       "        vertical-align: middle;\n",
       "    }\n",
       "\n",
       "    .dataframe tbody tr th {\n",
       "        vertical-align: top;\n",
       "    }\n",
       "\n",
       "    .dataframe thead th {\n",
       "        text-align: right;\n",
       "    }\n",
       "</style>\n",
       "<table border=\"1\" class=\"dataframe\">\n",
       "  <thead>\n",
       "    <tr style=\"text-align: right;\">\n",
       "      <th></th>\n",
       "      <th>Summary</th>\n",
       "      <th>Precip Type</th>\n",
       "      <th>Temperature (C)</th>\n",
       "      <th>Apparent Temperature (C)</th>\n",
       "      <th>Humidity</th>\n",
       "      <th>Wind Speed (km/h)</th>\n",
       "      <th>Wind Bearing (degrees)</th>\n",
       "      <th>Visibility (km)</th>\n",
       "      <th>Pressure (millibars)</th>\n",
       "      <th>Daily Summary</th>\n",
       "    </tr>\n",
       "    <tr>\n",
       "      <th>Formatted Date</th>\n",
       "      <th></th>\n",
       "      <th></th>\n",
       "      <th></th>\n",
       "      <th></th>\n",
       "      <th></th>\n",
       "      <th></th>\n",
       "      <th></th>\n",
       "      <th></th>\n",
       "      <th></th>\n",
       "      <th></th>\n",
       "    </tr>\n",
       "  </thead>\n",
       "  <tbody>\n",
       "    <tr>\n",
       "      <th>2006-04-01 00:00:00.000 +0200</th>\n",
       "      <td>Partly Cloudy</td>\n",
       "      <td>rain</td>\n",
       "      <td>9.472222</td>\n",
       "      <td>7.388889</td>\n",
       "      <td>0.89</td>\n",
       "      <td>14.1197</td>\n",
       "      <td>251.0</td>\n",
       "      <td>15.8263</td>\n",
       "      <td>1015.13</td>\n",
       "      <td>Partly cloudy throughout the day.</td>\n",
       "    </tr>\n",
       "    <tr>\n",
       "      <th>2006-04-01 01:00:00.000 +0200</th>\n",
       "      <td>Partly Cloudy</td>\n",
       "      <td>rain</td>\n",
       "      <td>9.355556</td>\n",
       "      <td>7.227778</td>\n",
       "      <td>0.86</td>\n",
       "      <td>14.2646</td>\n",
       "      <td>259.0</td>\n",
       "      <td>15.8263</td>\n",
       "      <td>1015.63</td>\n",
       "      <td>Partly cloudy throughout the day.</td>\n",
       "    </tr>\n",
       "    <tr>\n",
       "      <th>2006-04-01 02:00:00.000 +0200</th>\n",
       "      <td>Mostly Cloudy</td>\n",
       "      <td>rain</td>\n",
       "      <td>9.377778</td>\n",
       "      <td>9.377778</td>\n",
       "      <td>0.89</td>\n",
       "      <td>3.9284</td>\n",
       "      <td>204.0</td>\n",
       "      <td>14.9569</td>\n",
       "      <td>1015.94</td>\n",
       "      <td>Partly cloudy throughout the day.</td>\n",
       "    </tr>\n",
       "  </tbody>\n",
       "</table>\n",
       "</div>"
      ],
      "text/plain": [
       "                                     Summary Precip Type  Temperature (C)  \\\n",
       "Formatted Date                                                              \n",
       "2006-04-01 00:00:00.000 +0200  Partly Cloudy        rain         9.472222   \n",
       "2006-04-01 01:00:00.000 +0200  Partly Cloudy        rain         9.355556   \n",
       "2006-04-01 02:00:00.000 +0200  Mostly Cloudy        rain         9.377778   \n",
       "\n",
       "                               Apparent Temperature (C)  Humidity  \\\n",
       "Formatted Date                                                      \n",
       "2006-04-01 00:00:00.000 +0200                  7.388889      0.89   \n",
       "2006-04-01 01:00:00.000 +0200                  7.227778      0.86   \n",
       "2006-04-01 02:00:00.000 +0200                  9.377778      0.89   \n",
       "\n",
       "                               Wind Speed (km/h)  Wind Bearing (degrees)  \\\n",
       "Formatted Date                                                             \n",
       "2006-04-01 00:00:00.000 +0200            14.1197                   251.0   \n",
       "2006-04-01 01:00:00.000 +0200            14.2646                   259.0   \n",
       "2006-04-01 02:00:00.000 +0200             3.9284                   204.0   \n",
       "\n",
       "                               Visibility (km)  Pressure (millibars)  \\\n",
       "Formatted Date                                                         \n",
       "2006-04-01 00:00:00.000 +0200          15.8263               1015.13   \n",
       "2006-04-01 01:00:00.000 +0200          15.8263               1015.63   \n",
       "2006-04-01 02:00:00.000 +0200          14.9569               1015.94   \n",
       "\n",
       "                                                   Daily Summary  \n",
       "Formatted Date                                                    \n",
       "2006-04-01 00:00:00.000 +0200  Partly cloudy throughout the day.  \n",
       "2006-04-01 01:00:00.000 +0200  Partly cloudy throughout the day.  \n",
       "2006-04-01 02:00:00.000 +0200  Partly cloudy throughout the day.  "
      ]
     },
     "execution_count": 25,
     "metadata": {},
     "output_type": "execute_result"
    }
   ],
   "source": [
    "weather_df.head(3)"
   ]
  },
  {
   "cell_type": "code",
   "execution_count": 26,
   "id": "215da690",
   "metadata": {},
   "outputs": [
    {
     "data": {
      "text/html": [
       "<div>\n",
       "<style scoped>\n",
       "    .dataframe tbody tr th:only-of-type {\n",
       "        vertical-align: middle;\n",
       "    }\n",
       "\n",
       "    .dataframe tbody tr th {\n",
       "        vertical-align: top;\n",
       "    }\n",
       "\n",
       "    .dataframe thead th {\n",
       "        text-align: right;\n",
       "    }\n",
       "</style>\n",
       "<table border=\"1\" class=\"dataframe\">\n",
       "  <thead>\n",
       "    <tr style=\"text-align: right;\">\n",
       "      <th></th>\n",
       "      <th>Temperature (C)</th>\n",
       "      <th>Apparent Temperature (C)</th>\n",
       "      <th>Humidity</th>\n",
       "      <th>Wind Speed (km/h)</th>\n",
       "      <th>Wind Bearing (degrees)</th>\n",
       "      <th>Visibility (km)</th>\n",
       "      <th>Pressure (millibars)</th>\n",
       "      <th>Summary_Breezy and Dry</th>\n",
       "      <th>Summary_Breezy and Foggy</th>\n",
       "      <th>Summary_Breezy and Mostly Cloudy</th>\n",
       "      <th>...</th>\n",
       "      <th>Daily Summary_Partly cloudy until evening.</th>\n",
       "      <th>Daily Summary_Partly cloudy until morning.</th>\n",
       "      <th>Daily Summary_Partly cloudy until night and breezy in the afternoon.</th>\n",
       "      <th>Daily Summary_Partly cloudy until night and breezy in the morning.</th>\n",
       "      <th>Daily Summary_Partly cloudy until night and breezy starting in the morning continuing until afternoon.</th>\n",
       "      <th>Daily Summary_Partly cloudy until night.</th>\n",
       "      <th>Daily Summary_Rain throughout the day.</th>\n",
       "      <th>Daily Summary_Rain until afternoon.</th>\n",
       "      <th>Daily Summary_Rain until morning.</th>\n",
       "      <th>Daily Summary_Windy in the afternoon.</th>\n",
       "    </tr>\n",
       "    <tr>\n",
       "      <th>Formatted Date</th>\n",
       "      <th></th>\n",
       "      <th></th>\n",
       "      <th></th>\n",
       "      <th></th>\n",
       "      <th></th>\n",
       "      <th></th>\n",
       "      <th></th>\n",
       "      <th></th>\n",
       "      <th></th>\n",
       "      <th></th>\n",
       "      <th></th>\n",
       "      <th></th>\n",
       "      <th></th>\n",
       "      <th></th>\n",
       "      <th></th>\n",
       "      <th></th>\n",
       "      <th></th>\n",
       "      <th></th>\n",
       "      <th></th>\n",
       "      <th></th>\n",
       "      <th></th>\n",
       "    </tr>\n",
       "  </thead>\n",
       "  <tbody>\n",
       "    <tr>\n",
       "      <th>2006-04-01 00:00:00.000 +0200</th>\n",
       "      <td>9.472222</td>\n",
       "      <td>7.388889</td>\n",
       "      <td>0.89</td>\n",
       "      <td>14.1197</td>\n",
       "      <td>251.0</td>\n",
       "      <td>15.8263</td>\n",
       "      <td>1015.13</td>\n",
       "      <td>0</td>\n",
       "      <td>0</td>\n",
       "      <td>0</td>\n",
       "      <td>...</td>\n",
       "      <td>0</td>\n",
       "      <td>0</td>\n",
       "      <td>0</td>\n",
       "      <td>0</td>\n",
       "      <td>0</td>\n",
       "      <td>0</td>\n",
       "      <td>0</td>\n",
       "      <td>0</td>\n",
       "      <td>0</td>\n",
       "      <td>0</td>\n",
       "    </tr>\n",
       "    <tr>\n",
       "      <th>2006-04-01 01:00:00.000 +0200</th>\n",
       "      <td>9.355556</td>\n",
       "      <td>7.227778</td>\n",
       "      <td>0.86</td>\n",
       "      <td>14.2646</td>\n",
       "      <td>259.0</td>\n",
       "      <td>15.8263</td>\n",
       "      <td>1015.63</td>\n",
       "      <td>0</td>\n",
       "      <td>0</td>\n",
       "      <td>0</td>\n",
       "      <td>...</td>\n",
       "      <td>0</td>\n",
       "      <td>0</td>\n",
       "      <td>0</td>\n",
       "      <td>0</td>\n",
       "      <td>0</td>\n",
       "      <td>0</td>\n",
       "      <td>0</td>\n",
       "      <td>0</td>\n",
       "      <td>0</td>\n",
       "      <td>0</td>\n",
       "    </tr>\n",
       "    <tr>\n",
       "      <th>2006-04-01 02:00:00.000 +0200</th>\n",
       "      <td>9.377778</td>\n",
       "      <td>9.377778</td>\n",
       "      <td>0.89</td>\n",
       "      <td>3.9284</td>\n",
       "      <td>204.0</td>\n",
       "      <td>14.9569</td>\n",
       "      <td>1015.94</td>\n",
       "      <td>0</td>\n",
       "      <td>0</td>\n",
       "      <td>0</td>\n",
       "      <td>...</td>\n",
       "      <td>0</td>\n",
       "      <td>0</td>\n",
       "      <td>0</td>\n",
       "      <td>0</td>\n",
       "      <td>0</td>\n",
       "      <td>0</td>\n",
       "      <td>0</td>\n",
       "      <td>0</td>\n",
       "      <td>0</td>\n",
       "      <td>0</td>\n",
       "    </tr>\n",
       "  </tbody>\n",
       "</table>\n",
       "<p>3 rows × 248 columns</p>\n",
       "</div>"
      ],
      "text/plain": [
       "                               Temperature (C)  Apparent Temperature (C)  \\\n",
       "Formatted Date                                                             \n",
       "2006-04-01 00:00:00.000 +0200         9.472222                  7.388889   \n",
       "2006-04-01 01:00:00.000 +0200         9.355556                  7.227778   \n",
       "2006-04-01 02:00:00.000 +0200         9.377778                  9.377778   \n",
       "\n",
       "                               Humidity  Wind Speed (km/h)  \\\n",
       "Formatted Date                                               \n",
       "2006-04-01 00:00:00.000 +0200      0.89            14.1197   \n",
       "2006-04-01 01:00:00.000 +0200      0.86            14.2646   \n",
       "2006-04-01 02:00:00.000 +0200      0.89             3.9284   \n",
       "\n",
       "                               Wind Bearing (degrees)  Visibility (km)  \\\n",
       "Formatted Date                                                           \n",
       "2006-04-01 00:00:00.000 +0200                   251.0          15.8263   \n",
       "2006-04-01 01:00:00.000 +0200                   259.0          15.8263   \n",
       "2006-04-01 02:00:00.000 +0200                   204.0          14.9569   \n",
       "\n",
       "                               Pressure (millibars)  Summary_Breezy and Dry  \\\n",
       "Formatted Date                                                                \n",
       "2006-04-01 00:00:00.000 +0200               1015.13                       0   \n",
       "2006-04-01 01:00:00.000 +0200               1015.63                       0   \n",
       "2006-04-01 02:00:00.000 +0200               1015.94                       0   \n",
       "\n",
       "                               Summary_Breezy and Foggy  \\\n",
       "Formatted Date                                            \n",
       "2006-04-01 00:00:00.000 +0200                         0   \n",
       "2006-04-01 01:00:00.000 +0200                         0   \n",
       "2006-04-01 02:00:00.000 +0200                         0   \n",
       "\n",
       "                               Summary_Breezy and Mostly Cloudy  ...  \\\n",
       "Formatted Date                                                   ...   \n",
       "2006-04-01 00:00:00.000 +0200                                 0  ...   \n",
       "2006-04-01 01:00:00.000 +0200                                 0  ...   \n",
       "2006-04-01 02:00:00.000 +0200                                 0  ...   \n",
       "\n",
       "                               Daily Summary_Partly cloudy until evening.  \\\n",
       "Formatted Date                                                              \n",
       "2006-04-01 00:00:00.000 +0200                                           0   \n",
       "2006-04-01 01:00:00.000 +0200                                           0   \n",
       "2006-04-01 02:00:00.000 +0200                                           0   \n",
       "\n",
       "                               Daily Summary_Partly cloudy until morning.  \\\n",
       "Formatted Date                                                              \n",
       "2006-04-01 00:00:00.000 +0200                                           0   \n",
       "2006-04-01 01:00:00.000 +0200                                           0   \n",
       "2006-04-01 02:00:00.000 +0200                                           0   \n",
       "\n",
       "                               Daily Summary_Partly cloudy until night and breezy in the afternoon.  \\\n",
       "Formatted Date                                                                                        \n",
       "2006-04-01 00:00:00.000 +0200                                                  0                      \n",
       "2006-04-01 01:00:00.000 +0200                                                  0                      \n",
       "2006-04-01 02:00:00.000 +0200                                                  0                      \n",
       "\n",
       "                               Daily Summary_Partly cloudy until night and breezy in the morning.  \\\n",
       "Formatted Date                                                                                      \n",
       "2006-04-01 00:00:00.000 +0200                                                  0                    \n",
       "2006-04-01 01:00:00.000 +0200                                                  0                    \n",
       "2006-04-01 02:00:00.000 +0200                                                  0                    \n",
       "\n",
       "                               Daily Summary_Partly cloudy until night and breezy starting in the morning continuing until afternoon.  \\\n",
       "Formatted Date                                                                                                                          \n",
       "2006-04-01 00:00:00.000 +0200                                                  0                                                        \n",
       "2006-04-01 01:00:00.000 +0200                                                  0                                                        \n",
       "2006-04-01 02:00:00.000 +0200                                                  0                                                        \n",
       "\n",
       "                               Daily Summary_Partly cloudy until night.  \\\n",
       "Formatted Date                                                            \n",
       "2006-04-01 00:00:00.000 +0200                                         0   \n",
       "2006-04-01 01:00:00.000 +0200                                         0   \n",
       "2006-04-01 02:00:00.000 +0200                                         0   \n",
       "\n",
       "                               Daily Summary_Rain throughout the day.  \\\n",
       "Formatted Date                                                          \n",
       "2006-04-01 00:00:00.000 +0200                                       0   \n",
       "2006-04-01 01:00:00.000 +0200                                       0   \n",
       "2006-04-01 02:00:00.000 +0200                                       0   \n",
       "\n",
       "                               Daily Summary_Rain until afternoon.  \\\n",
       "Formatted Date                                                       \n",
       "2006-04-01 00:00:00.000 +0200                                    0   \n",
       "2006-04-01 01:00:00.000 +0200                                    0   \n",
       "2006-04-01 02:00:00.000 +0200                                    0   \n",
       "\n",
       "                               Daily Summary_Rain until morning.  \\\n",
       "Formatted Date                                                     \n",
       "2006-04-01 00:00:00.000 +0200                                  0   \n",
       "2006-04-01 01:00:00.000 +0200                                  0   \n",
       "2006-04-01 02:00:00.000 +0200                                  0   \n",
       "\n",
       "                               Daily Summary_Windy in the afternoon.  \n",
       "Formatted Date                                                        \n",
       "2006-04-01 00:00:00.000 +0200                                      0  \n",
       "2006-04-01 01:00:00.000 +0200                                      0  \n",
       "2006-04-01 02:00:00.000 +0200                                      0  \n",
       "\n",
       "[3 rows x 248 columns]"
      ]
     },
     "execution_count": 26,
     "metadata": {},
     "output_type": "execute_result"
    }
   ],
   "source": [
    "weather_encoded_df.head(3)"
   ]
  },
  {
   "cell_type": "markdown",
   "id": "b7c62b5d",
   "metadata": {},
   "source": [
    "# Statystka\n",
    "\n",
    "Dla wartości kategorycznych dokonujemy analizy statystycznej testem chi-kwadrat.\n",
    "\n",
    "Jest to test na niezależność różnych kategorii populacji. Test ma sens tylko wtedy, gdy obserwowany wymiar wynosi dwa lub więcej. Zastosowanie testu do tabeli jednowymiarowej zawsze da w wyniku oczekiwaną równą obserwowaną i statystykę chi-kwadrat równą 0.\n",
    "\n",
    "Hipotezy testu chi-kwadrat są następujące:\n",
    "\n",
    "𝐻0  (Null Hypothesis, hipoteza zerowa) — 2 zmienne kategorialne są od siebie niezależne.\n",
    "𝐻𝐴  (Alternate Hypothesis, hipoteza alternatywna) — 2 zmienne kategorialne są od siebie zależne.\n",
    "\n",
    "Zakładając 5% poziom istotności:\n",
    "\n",
    "p_value < 0.05 — mamy podstawy do przyjęcia  𝐻𝐴 , więc to oznacza, że dwie zmienne kategorialne są ze sobą skorelowane.\n",
    "p_value > 0.05 — nie mamy podstaw do odrzucenia  𝐻0 , więc to oznaczna, że dwie zmienne kategorialne nie są ze soba skorelowane."
   ]
  },
  {
   "cell_type": "code",
   "execution_count": 27,
   "id": "0b3d0932",
   "metadata": {
    "scrolled": true
   },
   "outputs": [
    {
     "name": "stdout",
     "output_type": "stream",
     "text": [
      "Summary z Summary: 0.0\n",
      "Summary z Precip Type: 0.0\n",
      "Summary z Daily Summary: 0.0\n",
      "Precip Type z Summary: 0.0\n",
      "Precip Type z Precip Type: 0.0\n",
      "Precip Type z Daily Summary: 0.0\n",
      "Daily Summary z Summary: 0.0\n",
      "Daily Summary z Precip Type: 0.0\n",
      "Daily Summary z Daily Summary: 0.0\n"
     ]
    }
   ],
   "source": [
    "import pandas as pd\n",
    "from scipy.stats import chi2_contingency\n",
    "\n",
    "p_values = {}\n",
    "for i in categorical_columns_ls:\n",
    "    for j in range(len(categorical_columns_ls)):\n",
    "        _, p, _, _ = chi2_contingency(\n",
    "            pd.crosstab(weather_df[i], weather_df[categorical_columns_ls[j]])\n",
    "        )\n",
    "        p_values[f\"{i}:{categorical_columns_ls[j]}\"] = p\n",
    "        print(f\"{i} z {categorical_columns_ls[j]}: {p}\")"
   ]
  },
  {
   "cell_type": "code",
   "execution_count": 28,
   "id": "707164fe",
   "metadata": {},
   "outputs": [
    {
     "name": "stdout",
     "output_type": "stream",
     "text": [
      "Summary:Summary 0.0\n",
      "Summary:Precip Type 0.0\n",
      "Summary:Daily Summary 0.0\n",
      "Precip Type:Summary 0.0\n",
      "Precip Type:Precip Type 0.0\n",
      "Precip Type:Daily Summary 0.0\n",
      "Daily Summary:Summary 0.0\n",
      "Daily Summary:Precip Type 0.0\n",
      "Daily Summary:Daily Summary 0.0\n"
     ]
    }
   ],
   "source": [
    "for key, value in p_values.items():\n",
    "    if value<0.05:\n",
    "        print (key, value)"
   ]
  },
  {
   "cell_type": "markdown",
   "id": "0192d519",
   "metadata": {},
   "source": [
    "Uzyskane  przez nasz wartości wskazują, że summary, precip type oraz summary daily są zależny. Zatem w trakcje dalszej analizy pozostawimy tylko jedną zmieną kategoryczną precip type."
   ]
  },
  {
   "cell_type": "code",
   "execution_count": 29,
   "id": "9413f3a1",
   "metadata": {
    "scrolled": true
   },
   "outputs": [
    {
     "data": {
      "text/plain": [
       "Partly Cloudy                          31733\n",
       "Mostly Cloudy                          28094\n",
       "Overcast                               16597\n",
       "Clear                                  10890\n",
       "Foggy                                   7148\n",
       "Breezy and Overcast                      528\n",
       "Breezy and Mostly Cloudy                 516\n",
       "Breezy and Partly Cloudy                 386\n",
       "Dry and Partly Cloudy                     86\n",
       "Windy and Partly Cloudy                   67\n",
       "Light Rain                                63\n",
       "Breezy                                    54\n",
       "Windy and Overcast                        45\n",
       "Humid and Mostly Cloudy                   40\n",
       "Drizzle                                   39\n",
       "Breezy and Foggy                          35\n",
       "Windy and Mostly Cloudy                   35\n",
       "Dry                                       34\n",
       "Humid and Partly Cloudy                   17\n",
       "Dry and Mostly Cloudy                     14\n",
       "Rain                                      10\n",
       "Windy                                      8\n",
       "Humid and Overcast                         7\n",
       "Windy and Foggy                            4\n",
       "Breezy and Dry                             1\n",
       "Dangerously Windy and Partly Cloudy        1\n",
       "Windy and Dry                              1\n",
       "Name: Summary, dtype: int64"
      ]
     },
     "execution_count": 29,
     "metadata": {},
     "output_type": "execute_result"
    }
   ],
   "source": [
    "weather_df['Summary'].value_counts()"
   ]
  },
  {
   "cell_type": "code",
   "execution_count": 30,
   "id": "90f486fc",
   "metadata": {},
   "outputs": [
    {
     "data": {
      "text/html": [
       "<div>\n",
       "<style scoped>\n",
       "    .dataframe tbody tr th:only-of-type {\n",
       "        vertical-align: middle;\n",
       "    }\n",
       "\n",
       "    .dataframe tbody tr th {\n",
       "        vertical-align: top;\n",
       "    }\n",
       "\n",
       "    .dataframe thead th {\n",
       "        text-align: right;\n",
       "    }\n",
       "</style>\n",
       "<table border=\"1\" class=\"dataframe\">\n",
       "  <thead>\n",
       "    <tr style=\"text-align: right;\">\n",
       "      <th></th>\n",
       "      <th>Precip Type</th>\n",
       "      <th>Temperature (C)</th>\n",
       "      <th>Apparent Temperature (C)</th>\n",
       "      <th>Humidity</th>\n",
       "      <th>Wind Speed (km/h)</th>\n",
       "      <th>Wind Bearing (degrees)</th>\n",
       "      <th>Visibility (km)</th>\n",
       "      <th>Pressure (millibars)</th>\n",
       "    </tr>\n",
       "    <tr>\n",
       "      <th>Formatted Date</th>\n",
       "      <th></th>\n",
       "      <th></th>\n",
       "      <th></th>\n",
       "      <th></th>\n",
       "      <th></th>\n",
       "      <th></th>\n",
       "      <th></th>\n",
       "      <th></th>\n",
       "    </tr>\n",
       "  </thead>\n",
       "  <tbody>\n",
       "    <tr>\n",
       "      <th>2006-04-01 00:00:00.000 +0200</th>\n",
       "      <td>rain</td>\n",
       "      <td>9.472222</td>\n",
       "      <td>7.388889</td>\n",
       "      <td>0.89</td>\n",
       "      <td>14.1197</td>\n",
       "      <td>251.0</td>\n",
       "      <td>15.8263</td>\n",
       "      <td>1015.13</td>\n",
       "    </tr>\n",
       "    <tr>\n",
       "      <th>2006-04-01 01:00:00.000 +0200</th>\n",
       "      <td>rain</td>\n",
       "      <td>9.355556</td>\n",
       "      <td>7.227778</td>\n",
       "      <td>0.86</td>\n",
       "      <td>14.2646</td>\n",
       "      <td>259.0</td>\n",
       "      <td>15.8263</td>\n",
       "      <td>1015.63</td>\n",
       "    </tr>\n",
       "    <tr>\n",
       "      <th>2006-04-01 02:00:00.000 +0200</th>\n",
       "      <td>rain</td>\n",
       "      <td>9.377778</td>\n",
       "      <td>9.377778</td>\n",
       "      <td>0.89</td>\n",
       "      <td>3.9284</td>\n",
       "      <td>204.0</td>\n",
       "      <td>14.9569</td>\n",
       "      <td>1015.94</td>\n",
       "    </tr>\n",
       "    <tr>\n",
       "      <th>2006-04-01 03:00:00.000 +0200</th>\n",
       "      <td>rain</td>\n",
       "      <td>8.288889</td>\n",
       "      <td>5.944444</td>\n",
       "      <td>0.83</td>\n",
       "      <td>14.1036</td>\n",
       "      <td>269.0</td>\n",
       "      <td>15.8263</td>\n",
       "      <td>1016.41</td>\n",
       "    </tr>\n",
       "    <tr>\n",
       "      <th>2006-04-01 04:00:00.000 +0200</th>\n",
       "      <td>rain</td>\n",
       "      <td>8.755556</td>\n",
       "      <td>6.977778</td>\n",
       "      <td>0.83</td>\n",
       "      <td>11.0446</td>\n",
       "      <td>259.0</td>\n",
       "      <td>15.8263</td>\n",
       "      <td>1016.51</td>\n",
       "    </tr>\n",
       "  </tbody>\n",
       "</table>\n",
       "</div>"
      ],
      "text/plain": [
       "                              Precip Type  Temperature (C)  \\\n",
       "Formatted Date                                               \n",
       "2006-04-01 00:00:00.000 +0200        rain         9.472222   \n",
       "2006-04-01 01:00:00.000 +0200        rain         9.355556   \n",
       "2006-04-01 02:00:00.000 +0200        rain         9.377778   \n",
       "2006-04-01 03:00:00.000 +0200        rain         8.288889   \n",
       "2006-04-01 04:00:00.000 +0200        rain         8.755556   \n",
       "\n",
       "                               Apparent Temperature (C)  Humidity  \\\n",
       "Formatted Date                                                      \n",
       "2006-04-01 00:00:00.000 +0200                  7.388889      0.89   \n",
       "2006-04-01 01:00:00.000 +0200                  7.227778      0.86   \n",
       "2006-04-01 02:00:00.000 +0200                  9.377778      0.89   \n",
       "2006-04-01 03:00:00.000 +0200                  5.944444      0.83   \n",
       "2006-04-01 04:00:00.000 +0200                  6.977778      0.83   \n",
       "\n",
       "                               Wind Speed (km/h)  Wind Bearing (degrees)  \\\n",
       "Formatted Date                                                             \n",
       "2006-04-01 00:00:00.000 +0200            14.1197                   251.0   \n",
       "2006-04-01 01:00:00.000 +0200            14.2646                   259.0   \n",
       "2006-04-01 02:00:00.000 +0200             3.9284                   204.0   \n",
       "2006-04-01 03:00:00.000 +0200            14.1036                   269.0   \n",
       "2006-04-01 04:00:00.000 +0200            11.0446                   259.0   \n",
       "\n",
       "                               Visibility (km)  Pressure (millibars)  \n",
       "Formatted Date                                                        \n",
       "2006-04-01 00:00:00.000 +0200          15.8263               1015.13  \n",
       "2006-04-01 01:00:00.000 +0200          15.8263               1015.63  \n",
       "2006-04-01 02:00:00.000 +0200          14.9569               1015.94  \n",
       "2006-04-01 03:00:00.000 +0200          15.8263               1016.41  \n",
       "2006-04-01 04:00:00.000 +0200          15.8263               1016.51  "
      ]
     },
     "execution_count": 30,
     "metadata": {},
     "output_type": "execute_result"
    }
   ],
   "source": [
    "weather_df = weather_df.drop(['Summary'], axis=1)\n",
    "weather_df = weather_df.drop(['Daily Summary'], axis=1)\n",
    "weather_df.head()"
   ]
  },
  {
   "cell_type": "markdown",
   "id": "21f29fdd",
   "metadata": {},
   "source": [
    "# Podział danych na zbiór treningowy i testowy\n",
    "\n",
    "Zbiór dnaych dzielimy na dane testowe i treningowe. Zbiór testowy obejmuje 20% danych, a zbiór treningowy 80% dannych."
   ]
  },
  {
   "cell_type": "code",
   "execution_count": 31,
   "id": "a2f8bdce",
   "metadata": {},
   "outputs": [
    {
     "name": "stdout",
     "output_type": "stream",
     "text": [
      "X_train dimension=  (77162, 7)\n",
      "X_test dimension=  (19291, 7)\n",
      "y_train dimension=  (77162,)\n",
      "y_test dimension=  (19291,)\n"
     ]
    }
   ],
   "source": [
    "from sklearn.model_selection import train_test_split\n",
    "X = weather_df.drop('Temperature (C)', axis=1)\n",
    "y = weather_df['Temperature (C)']\n",
    "\n",
    "X_train, X_test, y_train, y_test = train_test_split(X, y, test_size = 0.2, random_state=42)\n",
    "print('X_train dimension= ', X_train.shape)\n",
    "print('X_test dimension= ', X_test.shape)\n",
    "print('y_train dimension= ', y_train.shape)\n",
    "print('y_test dimension= ', y_test.shape)"
   ]
  },
  {
   "cell_type": "code",
   "execution_count": 32,
   "id": "e5ace5ac",
   "metadata": {},
   "outputs": [
    {
     "name": "stderr",
     "output_type": "stream",
     "text": [
      "D:\\anaconda\\lib\\site-packages\\seaborn\\distributions.py:2619: FutureWarning: `distplot` is a deprecated function and will be removed in a future version. Please adapt your code to use either `displot` (a figure-level function with similar flexibility) or `histplot` (an axes-level function for histograms).\n",
      "  warnings.warn(msg, FutureWarning)\n"
     ]
    },
    {
     "data": {
      "image/png": "[encoded data removed]",
      "text/plain": [
       "<Figure size 432x288 with 1 Axes>"
      ]
     },
     "metadata": {
      "needs_background": "light"
     },
     "output_type": "display_data"
    }
   ],
   "source": [
    "fig, ax = plt.subplots()\n",
    "for a in [y_train, y_test]:\n",
    "    sns.distplot(a, ax=ax, kde=False)"
   ]
  },
  {
   "cell_type": "markdown",
   "id": "93e88841",
   "metadata": {},
   "source": [
    "# Badanie współliniowości\n",
    "\n",
    "Tworzymy heatmapę dla danych treningowych."
   ]
  },
  {
   "cell_type": "code",
   "execution_count": 33,
   "id": "6a16ed0f",
   "metadata": {},
   "outputs": [
    {
     "data": {
      "text/plain": [
       "<AxesSubplot:>"
      ]
     },
     "execution_count": 33,
     "metadata": {},
     "output_type": "execute_result"
    },
    {
     "data": {
      "image/png": "[encoded data removed]",
      "text/plain": [
       "<Figure size 1008x720 with 2 Axes>"
      ]
     },
     "metadata": {
      "needs_background": "light"
     },
     "output_type": "display_data"
    }
   ],
   "source": [
    "plt.rcParams[\"figure.figsize\"] = [14, 10]\n",
    "\n",
    "sns.heatmap(X_train.join(y_train).corr(), annot=True)"
   ]
  },
  {
   "cell_type": "markdown",
   "id": "1174b661",
   "metadata": {},
   "source": [
    "Bardzo silnie jest ze sobą skorelowana dodatnio temperatura z temperaturą odczuwalną. Na poziomie 0.4 skorelowane dodatnio są ze sobą temperatura z widocznością oraz temperatura odczuwalna z widocznością. Silna korelacja ujemna jest dla temperatury/ temperatury odczuwalnej i wilgotności ."
   ]
  },
  {
   "cell_type": "code",
   "execution_count": 34,
   "id": "14c2a07c",
   "metadata": {},
   "outputs": [],
   "source": [
    "X_train_m = X_train[['Apparent Temperature (C)', 'Humidity']]\n",
    "X_test_m = X_test[['Apparent Temperature (C)', 'Humidity']]\n",
    "X_train_m.columns = ['Apparent_Temperature', 'Humidity']"
   ]
  },
  {
   "cell_type": "code",
   "execution_count": 35,
   "id": "6b25d1f4",
   "metadata": {},
   "outputs": [
    {
     "data": {
      "text/html": [
       "<div>\n",
       "<style scoped>\n",
       "    .dataframe tbody tr th:only-of-type {\n",
       "        vertical-align: middle;\n",
       "    }\n",
       "\n",
       "    .dataframe tbody tr th {\n",
       "        vertical-align: top;\n",
       "    }\n",
       "\n",
       "    .dataframe thead th {\n",
       "        text-align: right;\n",
       "    }\n",
       "</style>\n",
       "<table border=\"1\" class=\"dataframe\">\n",
       "  <thead>\n",
       "    <tr style=\"text-align: right;\">\n",
       "      <th></th>\n",
       "      <th>Apparent_Temperature</th>\n",
       "      <th>Humidity</th>\n",
       "      <th>Temperature (C)</th>\n",
       "    </tr>\n",
       "    <tr>\n",
       "      <th>Formatted Date</th>\n",
       "      <th></th>\n",
       "      <th></th>\n",
       "      <th></th>\n",
       "    </tr>\n",
       "  </thead>\n",
       "  <tbody>\n",
       "    <tr>\n",
       "      <th>2006-01-01 00:00:00.000 +0100</th>\n",
       "      <td>-4.050000</td>\n",
       "      <td>0.89</td>\n",
       "      <td>0.577778</td>\n",
       "    </tr>\n",
       "    <tr>\n",
       "      <th>2006-01-01 01:00:00.000 +0100</th>\n",
       "      <td>-3.238889</td>\n",
       "      <td>0.85</td>\n",
       "      <td>1.161111</td>\n",
       "    </tr>\n",
       "    <tr>\n",
       "      <th>2006-01-01 02:00:00.000 +0100</th>\n",
       "      <td>-3.155556</td>\n",
       "      <td>0.82</td>\n",
       "      <td>1.666667</td>\n",
       "    </tr>\n",
       "    <tr>\n",
       "      <th>2006-01-01 03:00:00.000 +0100</th>\n",
       "      <td>-2.194444</td>\n",
       "      <td>0.82</td>\n",
       "      <td>1.711111</td>\n",
       "    </tr>\n",
       "    <tr>\n",
       "      <th>2006-01-01 04:00:00.000 +0100</th>\n",
       "      <td>-2.744444</td>\n",
       "      <td>0.86</td>\n",
       "      <td>1.183333</td>\n",
       "    </tr>\n",
       "    <tr>\n",
       "      <th>...</th>\n",
       "      <td>...</td>\n",
       "      <td>...</td>\n",
       "      <td>...</td>\n",
       "    </tr>\n",
       "    <tr>\n",
       "      <th>2006-02-23 07:00:00.000 +0100</th>\n",
       "      <td>-0.100000</td>\n",
       "      <td>0.87</td>\n",
       "      <td>-0.100000</td>\n",
       "    </tr>\n",
       "    <tr>\n",
       "      <th>2006-02-23 08:00:00.000 +0100</th>\n",
       "      <td>0.027778</td>\n",
       "      <td>0.86</td>\n",
       "      <td>0.027778</td>\n",
       "    </tr>\n",
       "    <tr>\n",
       "      <th>2006-02-23 09:00:00.000 +0100</th>\n",
       "      <td>2.200000</td>\n",
       "      <td>0.79</td>\n",
       "      <td>2.200000</td>\n",
       "    </tr>\n",
       "    <tr>\n",
       "      <th>2006-02-23 10:00:00.000 +0100</th>\n",
       "      <td>0.816667</td>\n",
       "      <td>0.80</td>\n",
       "      <td>2.933333</td>\n",
       "    </tr>\n",
       "    <tr>\n",
       "      <th>2006-02-23 11:00:00.000 +0100</th>\n",
       "      <td>1.983333</td>\n",
       "      <td>0.81</td>\n",
       "      <td>3.938889</td>\n",
       "    </tr>\n",
       "  </tbody>\n",
       "</table>\n",
       "<p>1000 rows × 3 columns</p>\n",
       "</div>"
      ],
      "text/plain": [
       "                               Apparent_Temperature  Humidity  Temperature (C)\n",
       "Formatted Date                                                                \n",
       "2006-01-01 00:00:00.000 +0100             -4.050000      0.89         0.577778\n",
       "2006-01-01 01:00:00.000 +0100             -3.238889      0.85         1.161111\n",
       "2006-01-01 02:00:00.000 +0100             -3.155556      0.82         1.666667\n",
       "2006-01-01 03:00:00.000 +0100             -2.194444      0.82         1.711111\n",
       "2006-01-01 04:00:00.000 +0100             -2.744444      0.86         1.183333\n",
       "...                                             ...       ...              ...\n",
       "2006-02-23 07:00:00.000 +0100             -0.100000      0.87        -0.100000\n",
       "2006-02-23 08:00:00.000 +0100              0.027778      0.86         0.027778\n",
       "2006-02-23 09:00:00.000 +0100              2.200000      0.79         2.200000\n",
       "2006-02-23 10:00:00.000 +0100              0.816667      0.80         2.933333\n",
       "2006-02-23 11:00:00.000 +0100              1.983333      0.81         3.938889\n",
       "\n",
       "[1000 rows x 3 columns]"
      ]
     },
     "execution_count": 35,
     "metadata": {},
     "output_type": "execute_result"
    }
   ],
   "source": [
    "X_train_m.join(y_train)[:1000]"
   ]
  },
  {
   "cell_type": "markdown",
   "id": "133181d3",
   "metadata": {},
   "source": [
    "# Model regresji liniowej"
   ]
  },
  {
   "cell_type": "code",
   "execution_count": 36,
   "id": "0577c98c",
   "metadata": {},
   "outputs": [
    {
     "name": "stdout",
     "output_type": "stream",
     "text": [
      "<class 'pandas.core.frame.DataFrame'>\n",
      "Index: 77162 entries, 2010-09-18 01:00:00.000 +0200 to 2007-11-26 04:00:00.000 +0100\n",
      "Data columns (total 2 columns):\n",
      " #   Column                Non-Null Count  Dtype  \n",
      "---  ------                --------------  -----  \n",
      " 0   Apparent_Temperature  77162 non-null  float64\n",
      " 1   Humidity              77162 non-null  float64\n",
      "dtypes: float64(2)\n",
      "memory usage: 3.8+ MB\n"
     ]
    }
   ],
   "source": [
    "X_train_m.info()"
   ]
  },
  {
   "cell_type": "markdown",
   "id": "ddbf306d",
   "metadata": {},
   "source": [
    "Korzystając z biblioteki sklearn.linear_model importujemy LinearRegression. Następnie sprawdzamy współczynniki theta."
   ]
  },
  {
   "cell_type": "code",
   "execution_count": 37,
   "id": "a11ed24b",
   "metadata": {},
   "outputs": [
    {
     "data": {
      "text/html": [
       "<div>\n",
       "<style scoped>\n",
       "    .dataframe tbody tr th:only-of-type {\n",
       "        vertical-align: middle;\n",
       "    }\n",
       "\n",
       "    .dataframe tbody tr th {\n",
       "        vertical-align: top;\n",
       "    }\n",
       "\n",
       "    .dataframe thead th {\n",
       "        text-align: right;\n",
       "    }\n",
       "</style>\n",
       "<table border=\"1\" class=\"dataframe\">\n",
       "  <thead>\n",
       "    <tr style=\"text-align: right;\">\n",
       "      <th></th>\n",
       "      <th>Parameter</th>\n",
       "      <th>Columns</th>\n",
       "      <th>Sklearn_theta</th>\n",
       "    </tr>\n",
       "  </thead>\n",
       "  <tbody>\n",
       "    <tr>\n",
       "      <th>0</th>\n",
       "      <td>theta_0</td>\n",
       "      <td>intersect:x_0=1</td>\n",
       "      <td>4.542303</td>\n",
       "    </tr>\n",
       "    <tr>\n",
       "      <th>1</th>\n",
       "      <td>theta_1</td>\n",
       "      <td>Apparent_Temperature</td>\n",
       "      <td>0.857595</td>\n",
       "    </tr>\n",
       "    <tr>\n",
       "      <th>2</th>\n",
       "      <td>theta_2</td>\n",
       "      <td>Humidity</td>\n",
       "      <td>-2.613256</td>\n",
       "    </tr>\n",
       "  </tbody>\n",
       "</table>\n",
       "</div>"
      ],
      "text/plain": [
       "  Parameter               Columns  Sklearn_theta\n",
       "0   theta_0       intersect:x_0=1       4.542303\n",
       "1   theta_1  Apparent_Temperature       0.857595\n",
       "2   theta_2              Humidity      -2.613256"
      ]
     },
     "execution_count": 37,
     "metadata": {},
     "output_type": "execute_result"
    }
   ],
   "source": [
    "# Scikit Learn module\n",
    "from sklearn.linear_model import LinearRegression\n",
    "\n",
    "lin_reg = LinearRegression()\n",
    "\n",
    "lin_reg.fit(X_train_m, y_train)\n",
    "\n",
    "\n",
    "sk_theta_ls = [lin_reg.intercept_] + list(lin_reg.coef_)\n",
    "parameter_ls = [\"theta_\" + str(i) for i in range(X_train_m.shape[1] + 1)]\n",
    "columns_ls = [\"intersect:x_0=1\"] + list(X_train_m.columns.values)\n",
    "parameter_df = pd.DataFrame({\"Parameter\": parameter_ls, \"Columns\": columns_ls})\n",
    "parameter_df[\"Sklearn_theta\"] = sk_theta_ls\n",
    "\n",
    "parameter_df"
   ]
  },
  {
   "cell_type": "code",
   "execution_count": 38,
   "id": "37025d8b",
   "metadata": {
    "scrolled": true
   },
   "outputs": [
    {
     "name": "stdout",
     "output_type": "stream",
     "text": [
      "                            OLS Regression Results                            \n",
      "==============================================================================\n",
      "Dep. Variable:        Temperature (C)   R-squared:                       0.987\n",
      "Model:                            OLS   Adj. R-squared:                  0.987\n",
      "Method:                 Least Squares   F-statistic:                 2.949e+06\n",
      "Date:                Wed, 29 Jun 2022   Prob (F-statistic):               0.00\n",
      "Time:                        20:56:42   Log-Likelihood:            -1.1571e+05\n",
      "No. Observations:               77162   AIC:                         2.314e+05\n",
      "Df Residuals:                   77159   BIC:                         2.315e+05\n",
      "Df Model:                           2                                         \n",
      "Covariance Type:            nonrobust                                         \n",
      "========================================================================================\n",
      "                           coef    std err          t      P>|t|      [0.025      0.975]\n",
      "----------------------------------------------------------------------------------------\n",
      "const                    4.5423      0.022    205.314      0.000       4.499       4.586\n",
      "Apparent_Temperature     0.8576      0.000   1871.722      0.000       0.857       0.858\n",
      "Humidity                -2.6133      0.025   -104.315      0.000      -2.662      -2.564\n",
      "==============================================================================\n",
      "Omnibus:                     2198.446   Durbin-Watson:                   1.996\n",
      "Prob(Omnibus):                  0.000   Jarque-Bera (JB):             4448.077\n",
      "Skew:                          -0.194   Prob(JB):                         0.00\n",
      "Kurtosis:                       4.110   Cond. No.                         130.\n",
      "==============================================================================\n",
      "\n",
      "Notes:\n",
      "[1] Standard Errors assume that the covariance matrix of the errors is correctly specified.\n"
     ]
    }
   ],
   "source": [
    "from statsmodels.api import OLS\n",
    "import statsmodels.api as sm\n",
    "\n",
    "X_train_m_statsmodels = sm.add_constant(X_train_m)\n",
    "print(OLS(y_train, X_train_m_statsmodels).fit().summary())"
   ]
  },
  {
   "cell_type": "markdown",
   "id": "8afce7ee",
   "metadata": {},
   "source": [
    "Dokoknujemy analizy statystycznej dla stworzonego modelu. \n",
    "Współczynki theta pokazują nachylenie prostej regresji, zgodnie z przewidaniami w  przypadku apparent temperatury współczynnik jest dodatni, zatem linia regresji rośnie. W przypadku humidity współczynnik jesy ujemny, zatem linia regreji maleje. Dopasowanie lini regresji jest bardzo dobre w przypadku apparent  temperature (0%) dla humidity odchylenie błąd pomiaru wynosi około 1%. "
   ]
  },
  {
   "cell_type": "markdown",
   "id": "6882cb52",
   "metadata": {},
   "source": [
    "# Predykcje"
   ]
  },
  {
   "cell_type": "code",
   "execution_count": 39,
   "id": "11999480",
   "metadata": {},
   "outputs": [
    {
     "name": "stderr",
     "output_type": "stream",
     "text": [
      "D:\\anaconda\\lib\\site-packages\\sklearn\\base.py:493: FutureWarning: The feature names should match those that were passed during fit. Starting version 1.2, an error will be raised.\n",
      "Feature names unseen at fit time:\n",
      "- Apparent Temperature (C)\n",
      "Feature names seen at fit time, yet now missing:\n",
      "- Apparent_Temperature\n",
      "\n",
      "  warnings.warn(message, FutureWarning)\n"
     ]
    }
   ],
   "source": [
    "import sklearn.metrics as metrics\n",
    "\n",
    "def regression_results(y_true, y_pred):\n",
    "    # Regression metrics\n",
    "    explained_variance = metrics.explained_variance_score(y_true, y_pred)\n",
    "    mean_absolute_error = metrics.mean_absolute_error(y_true, y_pred)\n",
    "    mse = metrics.mean_squared_error(y_true, y_pred)\n",
    "    # mean_squared_log_error = metrics.mean_squared_log_error(y_true, y_pred)\n",
    "    median_absolute_error = metrics.median_absolute_error(y_true, y_pred)\n",
    "    r2 = metrics.r2_score(y_true, y_pred)\n",
    "\n",
    "    print(\"explained_variance: \", round(explained_variance, 4))\n",
    "    # print(\"mean_squared_log_error: \", round(mean_squared_log_error, 4))\n",
    "    print(\"r2: \", round(r2, 4))\n",
    "    print(\"MAE: \", round(mean_absolute_error, 4))\n",
    "    print(\"MSE: \", round(mse, 4))\n",
    "    print(\"RMSE: \", round(np.sqrt(mse), 4))\n",
    "\n",
    "y_train_pred = lin_reg.predict(X_train_m)\n",
    "y_test_pred = lin_reg.predict(X_test_m)"
   ]
  },
  {
   "cell_type": "code",
   "execution_count": 40,
   "id": "0a75f2a8",
   "metadata": {},
   "outputs": [
    {
     "data": {
      "text/plain": [
       "array([15.27389848,  3.76336323, 17.64903322, ...,  9.04334416,\n",
       "       18.83191525,  4.33436143])"
      ]
     },
     "execution_count": 40,
     "metadata": {},
     "output_type": "execute_result"
    }
   ],
   "source": [
    "y_train_pred"
   ]
  },
  {
   "cell_type": "code",
   "execution_count": 41,
   "id": "f1044a21",
   "metadata": {},
   "outputs": [
    {
     "data": {
      "text/plain": [
       "array([27.87984905,  9.22453558, 15.19306151, ..., 12.3478423 ,\n",
       "       24.47574324, 19.17568554])"
      ]
     },
     "execution_count": 41,
     "metadata": {},
     "output_type": "execute_result"
    }
   ],
   "source": [
    "y_test_pred"
   ]
  },
  {
   "cell_type": "markdown",
   "id": "477af449",
   "metadata": {},
   "source": [
    "#  Ewaluacja modelu"
   ]
  },
  {
   "cell_type": "code",
   "execution_count": 42,
   "id": "0d6ff4d4",
   "metadata": {},
   "outputs": [
    {
     "name": "stdout",
     "output_type": "stream",
     "text": [
      "explained_variance:  0.9871\n",
      "r2:  0.9871\n",
      "MAE:  0.8217\n",
      "MSE:  1.1751\n",
      "RMSE:  1.084\n"
     ]
    }
   ],
   "source": [
    "regression_results(y_train, y_train_pred)"
   ]
  },
  {
   "cell_type": "code",
   "execution_count": 43,
   "id": "32ab56cf",
   "metadata": {},
   "outputs": [
    {
     "name": "stdout",
     "output_type": "stream",
     "text": [
      "explained_variance:  0.9874\n",
      "r2:  0.9874\n",
      "MAE:  0.821\n",
      "MSE:  1.1657\n",
      "RMSE:  1.0797\n"
     ]
    }
   ],
   "source": [
    "regression_results(y_test, y_test_pred)"
   ]
  },
  {
   "cell_type": "markdown",
   "id": "cf699cb7",
   "metadata": {},
   "source": [
    "Model zwraca wartość R^2 = 0.9874 na zbiorze testowym co jest nieznaczną różnicą względem zbiory treningowego R^2 = 0.9871 na poziomie 99,97%. Możemy zatem wyciągnąć wniosek, że model jest stabilny. "
   ]
  },
  {
   "cell_type": "code",
   "execution_count": 44,
   "id": "c86b7ae7",
   "metadata": {},
   "outputs": [
    {
     "data": {
      "text/plain": [
       "(77162, 2)"
      ]
     },
     "execution_count": 44,
     "metadata": {},
     "output_type": "execute_result"
    }
   ],
   "source": [
    "X_train_m.shape"
   ]
  },
  {
   "cell_type": "code",
   "execution_count": 45,
   "id": "fb0e9421",
   "metadata": {},
   "outputs": [
    {
     "data": {
      "text/plain": [
       "(19291, 2)"
      ]
     },
     "execution_count": 45,
     "metadata": {},
     "output_type": "execute_result"
    }
   ],
   "source": [
    "X_test_m.shape"
   ]
  },
  {
   "cell_type": "markdown",
   "id": "708081b7",
   "metadata": {},
   "source": [
    "# Walidacja modelu"
   ]
  },
  {
   "cell_type": "code",
   "execution_count": 46,
   "id": "232d0338",
   "metadata": {},
   "outputs": [
    {
     "name": "stderr",
     "output_type": "stream",
     "text": [
      "D:\\anaconda\\lib\\site-packages\\seaborn\\_decorators.py:36: FutureWarning: Pass the following variables as keyword args: x, y. From version 0.12, the only valid positional argument will be `data`, and passing other arguments without an explicit keyword will result in an error or misinterpretation.\n",
      "  warnings.warn(\n",
      "D:\\anaconda\\lib\\site-packages\\seaborn\\distributions.py:2619: FutureWarning: `distplot` is a deprecated function and will be removed in a future version. Please adapt your code to use either `displot` (a figure-level function with similar flexibility) or `histplot` (an axes-level function for histograms).\n",
      "  warnings.warn(msg, FutureWarning)\n"
     ]
    },
    {
     "data": {
      "text/plain": [
       "Text(0.5, 1.0, 'Test dla normalości reszt (residuals): \\n Residual eror')"
      ]
     },
     "execution_count": 46,
     "metadata": {},
     "output_type": "execute_result"
    },
    {
     "data": {
      "image/png": "[encoded data removed]",
      "text/plain": [
       "<Figure size 1008x360 with 2 Axes>"
      ]
     },
     "metadata": {
      "needs_background": "light"
     },
     "output_type": "display_data"
    }
   ],
   "source": [
    "# Check for Linearity\n",
    "f = plt.figure(figsize=(14, 5))\n",
    "ax = f.add_subplot(121)\n",
    "sns.scatterplot(y_test, y_test_pred, ax=ax, color=\"r\")\n",
    "ax.set_title(\"Test liniowej zależności:\\n Actual Vs Predicted value\")\n",
    "\n",
    "# Check for Residual normality & mean\n",
    "ax = f.add_subplot(122)\n",
    "sns.distplot((y_test - y_test_pred), ax=ax, color=\"b\")\n",
    "ax.axvline((y_test - y_test_pred).mean(), color=\"k\", linestyle=\"--\")\n",
    "ax.set_title(\"Test dla normalości reszt (residuals): \\n Residual eror\")"
   ]
  },
  {
   "cell_type": "markdown",
   "id": "61e61367",
   "metadata": {},
   "source": [
    "Test liniowej zależności wykazuje silną zależność liniową. Test dla normalności reszt przypomina rozkład normalny. Lewy ogon rozkładu jest nieznacznie dłuższy w porównowniu do prawej strony oraz widzimy lekko rozdwojony czubek."
   ]
  },
  {
   "cell_type": "code",
   "execution_count": 47,
   "id": "d4b0eb36",
   "metadata": {},
   "outputs": [
    {
     "data": {
      "image/png": "[encoded data removed]",
      "text/plain": [
       "<Figure size 1008x432 with 2 Axes>"
      ]
     },
     "metadata": {
      "needs_background": "light"
     },
     "output_type": "display_data"
    }
   ],
   "source": [
    "f,ax = plt.subplots(1,2,figsize=(14,6))\n",
    "import scipy as sp\n",
    "_,(_,_,r)= sp.stats.probplot((y_test - y_test_pred),fit=True,plot=ax[0])\n",
    "ax[0].set_title('Test wielorakiej normaloności (Check for Multivariate Normality): \\nQ-Q Plot')\n",
    "\n",
    "sns.scatterplot(y = (y_test - y_test_pred), x= y_test_pred, ax = ax[1],color='r') \n",
    "ax[1].set_title('Test homoskedastyczności: \\nResidual Vs Predicted');"
   ]
  },
  {
   "cell_type": "markdown",
   "id": "fed500ad",
   "metadata": {},
   "source": [
    "Test wielorakiej normalności wyraźnie wskazuje na odchylenie lewego ogonu rozkładu od krzywej regresji oraz lekkie odchylenie  wartości z prawej strony ogona rozkładu."
   ]
  }
 ],
 "metadata": {
  "kernelspec": {
   "display_name": "Python 3 (ipykernel)",
   "language": "python",
   "name": "python3"
  },
  "language_info": {
   "codemirror_mode": {
    "name": "ipython",
    "version": 3
   },
   "file_extension": ".py",
   "mimetype": "text/x-python",
   "name": "python",
   "nbconvert_exporter": "python",
   "pygments_lexer": "ipython3",
   "version": "3.9.12"
  },
  "toc": {
   "base_numbering": 1,
   "nav_menu": {},
   "number_sections": true,
   "sideBar": true,
   "skip_h1_title": false,
   "title_cell": "Table of Contents",
   "title_sidebar": "Contents",
   "toc_cell": false,
   "toc_position": {
    "height": "calc(100% - 180px)",
    "left": "10px",
    "top": "150px",
    "width": "341.333px"
   },
   "toc_section_display": true,
   "toc_window_display": true
  }
 },
 "nbformat": 4,
 "nbformat_minor": 5
}
